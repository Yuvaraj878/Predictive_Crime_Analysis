{
 "cells": [
  {
   "cell_type": "code",
   "execution_count": 1,
   "metadata": {},
   "outputs": [],
   "source": [
    "import pandas as pd\n",
    "import numpy as np"
   ]
  },
  {
   "cell_type": "code",
   "execution_count": 2,
   "metadata": {},
   "outputs": [
    {
     "name": "stderr",
     "output_type": "stream",
     "text": [
      "C:\\Users\\SEC\\AppData\\Local\\Temp\\ipykernel_6928\\3665889175.py:2: DtypeWarning: Columns (19,20) have mixed types. Specify dtype option on import or set low_memory=False.\n",
      "  d3=pd.read_csv(\"Dataset\\FIR_Details_Data.csv\")\n"
     ]
    }
   ],
   "source": [
    "d1=pd.read_csv(\"Dataset\\ComplainantDetailsData.csv\")\n",
    "d3=pd.read_csv(\"Dataset\\FIR_Details_Data.csv\")\n",
    "d4=pd.read_csv(\"Dataset\\ArrestPersonDetails.csv\")"
   ]
  },
  {
   "cell_type": "code",
   "execution_count": 3,
   "metadata": {},
   "outputs": [],
   "source": [
    "datasets = [d1,d3,d4]"
   ]
  },
  {
   "cell_type": "code",
   "execution_count": 5,
   "metadata": {},
   "outputs": [
    {
     "data": {
      "text/plain": [
       "(1696392, 22)"
      ]
     },
     "execution_count": 5,
     "metadata": {},
     "output_type": "execute_result"
    }
   ],
   "source": [
    "d1.shape"
   ]
  },
  {
   "cell_type": "code",
   "execution_count": 4,
   "metadata": {},
   "outputs": [
    {
     "name": "stdout",
     "output_type": "stream",
     "text": [
      "Head of dataset 1:\n"
     ]
    },
    {
     "data": {
      "text/html": [
       "<div>\n",
       "<style scoped>\n",
       "    .dataframe tbody tr th:only-of-type {\n",
       "        vertical-align: middle;\n",
       "    }\n",
       "\n",
       "    .dataframe tbody tr th {\n",
       "        vertical-align: top;\n",
       "    }\n",
       "\n",
       "    .dataframe thead th {\n",
       "        text-align: right;\n",
       "    }\n",
       "</style>\n",
       "<table border=\"1\" class=\"dataframe\">\n",
       "  <thead>\n",
       "    <tr style=\"text-align: right;\">\n",
       "      <th></th>\n",
       "      <th>District_Name</th>\n",
       "      <th>UnitName</th>\n",
       "      <th>FIRNo</th>\n",
       "      <th>Year</th>\n",
       "      <th>Month</th>\n",
       "      <th>ComplainantName</th>\n",
       "      <th>Relation</th>\n",
       "      <th>RelationshipName</th>\n",
       "      <th>DateOfBirth</th>\n",
       "      <th>Age</th>\n",
       "      <th>...</th>\n",
       "      <th>Occupation</th>\n",
       "      <th>Address</th>\n",
       "      <th>City</th>\n",
       "      <th>State</th>\n",
       "      <th>Pincode</th>\n",
       "      <th>Caste</th>\n",
       "      <th>Religion</th>\n",
       "      <th>FIR_ID</th>\n",
       "      <th>Unit_ID</th>\n",
       "      <th>Complaint_ID</th>\n",
       "    </tr>\n",
       "  </thead>\n",
       "  <tbody>\n",
       "    <tr>\n",
       "      <th>0</th>\n",
       "      <td>Bagalkot</td>\n",
       "      <td>Amengad PS</td>\n",
       "      <td>0001/2016</td>\n",
       "      <td>2016</td>\n",
       "      <td>1</td>\n",
       "      <td>BASAYYA HIREMATH</td>\n",
       "      <td>Father</td>\n",
       "      <td>SHANKRAYYA</td>\n",
       "      <td>1900-01-01 00:00:00.000</td>\n",
       "      <td>40</td>\n",
       "      <td>...</td>\n",
       "      <td>Labourer</td>\n",
       "      <td>HUVINAHALLI,TQ-HUNAGUND</td>\n",
       "      <td>Bagalkot</td>\n",
       "      <td>Karnataka</td>\n",
       "      <td>NaN</td>\n",
       "      <td>Lingayath</td>\n",
       "      <td>Hindu</td>\n",
       "      <td>2016000002</td>\n",
       "      <td>1245</td>\n",
       "      <td>2016000002</td>\n",
       "    </tr>\n",
       "    <tr>\n",
       "      <th>1</th>\n",
       "      <td>Bagalkot</td>\n",
       "      <td>Amengad PS</td>\n",
       "      <td>0002/2016</td>\n",
       "      <td>2016</td>\n",
       "      <td>1</td>\n",
       "      <td>R S BIRADAR PSI</td>\n",
       "      <td>Father</td>\n",
       "      <td>S</td>\n",
       "      <td>1900-01-01 00:00:00.000</td>\n",
       "      <td>48</td>\n",
       "      <td>...</td>\n",
       "      <td>Police officer</td>\n",
       "      <td>AMINAGAD PS,TQ-HUNAGUND</td>\n",
       "      <td>Bagalkot</td>\n",
       "      <td>Karnataka</td>\n",
       "      <td>NaN</td>\n",
       "      <td>NaN</td>\n",
       "      <td>Hindu</td>\n",
       "      <td>2016000003</td>\n",
       "      <td>1245</td>\n",
       "      <td>2016000003</td>\n",
       "    </tr>\n",
       "    <tr>\n",
       "      <th>2</th>\n",
       "      <td>Bagalkot</td>\n",
       "      <td>Amengad PS</td>\n",
       "      <td>0003/2016</td>\n",
       "      <td>2016</td>\n",
       "      <td>1</td>\n",
       "      <td>I R HADAPAD ASI</td>\n",
       "      <td>Father</td>\n",
       "      <td>R</td>\n",
       "      <td>1900-01-01 00:00:00.000</td>\n",
       "      <td>59</td>\n",
       "      <td>...</td>\n",
       "      <td>Police officer</td>\n",
       "      <td>AMINAGAD PS,TQ-HUNAGUND</td>\n",
       "      <td>Bagalkot</td>\n",
       "      <td>Karnataka</td>\n",
       "      <td>NaN</td>\n",
       "      <td>NaN</td>\n",
       "      <td>Hindu</td>\n",
       "      <td>2016000004</td>\n",
       "      <td>1245</td>\n",
       "      <td>2016000004</td>\n",
       "    </tr>\n",
       "    <tr>\n",
       "      <th>3</th>\n",
       "      <td>Bagalkot</td>\n",
       "      <td>Amengad PS</td>\n",
       "      <td>0004/2016</td>\n",
       "      <td>2016</td>\n",
       "      <td>1</td>\n",
       "      <td>MAHESH JANNU</td>\n",
       "      <td>Father</td>\n",
       "      <td>SADANAND</td>\n",
       "      <td>1900-01-01 00:00:00.000</td>\n",
       "      <td>40</td>\n",
       "      <td>...</td>\n",
       "      <td>Businessman</td>\n",
       "      <td>BASAVA NAGAR GOKAK CTS NO 190/5 PLAT NO 02,TQ-...</td>\n",
       "      <td>Belagavi Dist</td>\n",
       "      <td>Karnataka</td>\n",
       "      <td>NaN</td>\n",
       "      <td>BRAHMIN</td>\n",
       "      <td>Hindu</td>\n",
       "      <td>2016000005</td>\n",
       "      <td>1245</td>\n",
       "      <td>2016000005</td>\n",
       "    </tr>\n",
       "    <tr>\n",
       "      <th>4</th>\n",
       "      <td>Bagalkot</td>\n",
       "      <td>Amengad PS</td>\n",
       "      <td>0005/2016</td>\n",
       "      <td>2016</td>\n",
       "      <td>1</td>\n",
       "      <td>SANGANABASAPPA SHANMUKHAPPA RESHMI</td>\n",
       "      <td>NaN</td>\n",
       "      <td>NaN</td>\n",
       "      <td>1900-01-01 00:00:00.000</td>\n",
       "      <td>0</td>\n",
       "      <td>...</td>\n",
       "      <td>Teacher</td>\n",
       "      <td>AMBLIKOPPA NOW AT ILKAL,TQ-HUNAGUND</td>\n",
       "      <td>Bagalkot</td>\n",
       "      <td>Karnataka</td>\n",
       "      <td>NaN</td>\n",
       "      <td>GANIGA</td>\n",
       "      <td>Hindu</td>\n",
       "      <td>2016000006</td>\n",
       "      <td>1245</td>\n",
       "      <td>2016000006</td>\n",
       "    </tr>\n",
       "  </tbody>\n",
       "</table>\n",
       "<p>5 rows × 22 columns</p>\n",
       "</div>"
      ],
      "text/plain": [
       "  District_Name    UnitName      FIRNo  Year  Month  \\\n",
       "0      Bagalkot  Amengad PS  0001/2016  2016      1   \n",
       "1      Bagalkot  Amengad PS  0002/2016  2016      1   \n",
       "2      Bagalkot  Amengad PS  0003/2016  2016      1   \n",
       "3      Bagalkot  Amengad PS  0004/2016  2016      1   \n",
       "4      Bagalkot  Amengad PS  0005/2016  2016      1   \n",
       "\n",
       "                      ComplainantName Relation RelationshipName  \\\n",
       "0                    BASAYYA HIREMATH   Father       SHANKRAYYA   \n",
       "1                     R S BIRADAR PSI   Father                S   \n",
       "2                     I R HADAPAD ASI   Father                R   \n",
       "3                        MAHESH JANNU   Father         SADANAND   \n",
       "4  SANGANABASAPPA SHANMUKHAPPA RESHMI      NaN              NaN   \n",
       "\n",
       "               DateOfBirth  Age  ...       Occupation  \\\n",
       "0  1900-01-01 00:00:00.000   40  ...        Labourer    \n",
       "1  1900-01-01 00:00:00.000   48  ...  Police officer    \n",
       "2  1900-01-01 00:00:00.000   59  ...  Police officer    \n",
       "3  1900-01-01 00:00:00.000   40  ...     Businessman    \n",
       "4  1900-01-01 00:00:00.000    0  ...         Teacher    \n",
       "\n",
       "                                             Address           City  \\\n",
       "0                            HUVINAHALLI,TQ-HUNAGUND       Bagalkot   \n",
       "1                            AMINAGAD PS,TQ-HUNAGUND       Bagalkot   \n",
       "2                            AMINAGAD PS,TQ-HUNAGUND       Bagalkot   \n",
       "3  BASAVA NAGAR GOKAK CTS NO 190/5 PLAT NO 02,TQ-...  Belagavi Dist   \n",
       "4                AMBLIKOPPA NOW AT ILKAL,TQ-HUNAGUND       Bagalkot   \n",
       "\n",
       "       State Pincode      Caste  Religion      FIR_ID Unit_ID  Complaint_ID  \n",
       "0  Karnataka     NaN  Lingayath    Hindu   2016000002    1245    2016000002  \n",
       "1  Karnataka     NaN        NaN    Hindu   2016000003    1245    2016000003  \n",
       "2  Karnataka     NaN        NaN    Hindu   2016000004    1245    2016000004  \n",
       "3  Karnataka     NaN    BRAHMIN    Hindu   2016000005    1245    2016000005  \n",
       "4  Karnataka     NaN     GANIGA    Hindu   2016000006    1245    2016000006  \n",
       "\n",
       "[5 rows x 22 columns]"
      ]
     },
     "metadata": {},
     "output_type": "display_data"
    },
    {
     "name": "stdout",
     "output_type": "stream",
     "text": [
      "\n",
      "\n",
      "Head of dataset 2:\n"
     ]
    },
    {
     "data": {
      "text/html": [
       "<div>\n",
       "<style scoped>\n",
       "    .dataframe tbody tr th:only-of-type {\n",
       "        vertical-align: middle;\n",
       "    }\n",
       "\n",
       "    .dataframe tbody tr th {\n",
       "        vertical-align: top;\n",
       "    }\n",
       "\n",
       "    .dataframe thead th {\n",
       "        text-align: right;\n",
       "    }\n",
       "</style>\n",
       "<table border=\"1\" class=\"dataframe\">\n",
       "  <thead>\n",
       "    <tr style=\"text-align: right;\">\n",
       "      <th></th>\n",
       "      <th>District_Name</th>\n",
       "      <th>UnitName</th>\n",
       "      <th>FIRNo</th>\n",
       "      <th>RI</th>\n",
       "      <th>Year</th>\n",
       "      <th>Month</th>\n",
       "      <th>Offence_From_Date</th>\n",
       "      <th>Offence_To_Date</th>\n",
       "      <th>FIR_Reg_DateTime</th>\n",
       "      <th>FIR_Date</th>\n",
       "      <th>...</th>\n",
       "      <th>VICTIM COUNT</th>\n",
       "      <th>Accused Count</th>\n",
       "      <th>Arrested Male</th>\n",
       "      <th>Arrested Female</th>\n",
       "      <th>Arrested Count\\tNo.</th>\n",
       "      <th>Accused_ChargeSheeted Count</th>\n",
       "      <th>Conviction Count</th>\n",
       "      <th>FIR_ID</th>\n",
       "      <th>Unit_ID</th>\n",
       "      <th>Crime_No</th>\n",
       "    </tr>\n",
       "  </thead>\n",
       "  <tbody>\n",
       "    <tr>\n",
       "      <th>0</th>\n",
       "      <td>Bagalkot</td>\n",
       "      <td>Amengad PS</td>\n",
       "      <td>0001/2016</td>\n",
       "      <td>1</td>\n",
       "      <td>2016</td>\n",
       "      <td>1</td>\n",
       "      <td>2015-12-27 12:00:00.000</td>\n",
       "      <td>2015-12-27 12:05:00.000</td>\n",
       "      <td>2016-01-05 11:00:00.000</td>\n",
       "      <td>05/01/2016</td>\n",
       "      <td>...</td>\n",
       "      <td>0</td>\n",
       "      <td>1</td>\n",
       "      <td>1</td>\n",
       "      <td>0</td>\n",
       "      <td>1</td>\n",
       "      <td>1</td>\n",
       "      <td>0</td>\n",
       "      <td>2016000002</td>\n",
       "      <td>1245</td>\n",
       "      <td>10470124520160001</td>\n",
       "    </tr>\n",
       "    <tr>\n",
       "      <th>1</th>\n",
       "      <td>Bagalkot</td>\n",
       "      <td>Amengad PS</td>\n",
       "      <td>0002/2016</td>\n",
       "      <td>1</td>\n",
       "      <td>2016</td>\n",
       "      <td>1</td>\n",
       "      <td>2016-01-12 17:30:00.000</td>\n",
       "      <td>2016-01-12 17:35:00.000</td>\n",
       "      <td>2016-01-12 19:00:00.000</td>\n",
       "      <td>12/01/2016</td>\n",
       "      <td>...</td>\n",
       "      <td>0</td>\n",
       "      <td>5</td>\n",
       "      <td>5</td>\n",
       "      <td>0</td>\n",
       "      <td>5</td>\n",
       "      <td>5</td>\n",
       "      <td>2</td>\n",
       "      <td>2016000003</td>\n",
       "      <td>1245</td>\n",
       "      <td>10470124520160002</td>\n",
       "    </tr>\n",
       "    <tr>\n",
       "      <th>2</th>\n",
       "      <td>Bagalkot</td>\n",
       "      <td>Amengad PS</td>\n",
       "      <td>0003/2016</td>\n",
       "      <td>1</td>\n",
       "      <td>2016</td>\n",
       "      <td>1</td>\n",
       "      <td>2016-01-12 17:45:00.000</td>\n",
       "      <td>2016-01-12 17:50:00.000</td>\n",
       "      <td>2016-01-12 19:30:00.000</td>\n",
       "      <td>12/01/2016</td>\n",
       "      <td>...</td>\n",
       "      <td>0</td>\n",
       "      <td>1</td>\n",
       "      <td>1</td>\n",
       "      <td>0</td>\n",
       "      <td>1</td>\n",
       "      <td>1</td>\n",
       "      <td>0</td>\n",
       "      <td>2016000004</td>\n",
       "      <td>1245</td>\n",
       "      <td>10470124520160003</td>\n",
       "    </tr>\n",
       "    <tr>\n",
       "      <th>3</th>\n",
       "      <td>Bagalkot</td>\n",
       "      <td>Amengad PS</td>\n",
       "      <td>0004/2016</td>\n",
       "      <td>1</td>\n",
       "      <td>2016</td>\n",
       "      <td>1</td>\n",
       "      <td>2016-01-14 21:30:00.000</td>\n",
       "      <td>2016-01-14 21:35:00.000</td>\n",
       "      <td>2016-01-15 14:00:00.000</td>\n",
       "      <td>15/01/2016</td>\n",
       "      <td>...</td>\n",
       "      <td>0</td>\n",
       "      <td>1</td>\n",
       "      <td>1</td>\n",
       "      <td>0</td>\n",
       "      <td>1</td>\n",
       "      <td>1</td>\n",
       "      <td>0</td>\n",
       "      <td>2016000005</td>\n",
       "      <td>1245</td>\n",
       "      <td>10470124520160004</td>\n",
       "    </tr>\n",
       "    <tr>\n",
       "      <th>4</th>\n",
       "      <td>Bagalkot</td>\n",
       "      <td>Amengad PS</td>\n",
       "      <td>0005/2016</td>\n",
       "      <td>1</td>\n",
       "      <td>2016</td>\n",
       "      <td>1</td>\n",
       "      <td>2016-01-18 15:00:00.000</td>\n",
       "      <td>2016-01-18 15:05:00.000</td>\n",
       "      <td>2016-01-18 19:30:00.000</td>\n",
       "      <td>18/01/2016</td>\n",
       "      <td>...</td>\n",
       "      <td>0</td>\n",
       "      <td>1</td>\n",
       "      <td>1</td>\n",
       "      <td>0</td>\n",
       "      <td>1</td>\n",
       "      <td>1</td>\n",
       "      <td>0</td>\n",
       "      <td>2016000006</td>\n",
       "      <td>1245</td>\n",
       "      <td>10470124520160005</td>\n",
       "    </tr>\n",
       "  </tbody>\n",
       "</table>\n",
       "<p>5 rows × 41 columns</p>\n",
       "</div>"
      ],
      "text/plain": [
       "  District_Name    UnitName      FIRNo  RI  Year  Month  \\\n",
       "0      Bagalkot  Amengad PS  0001/2016   1  2016      1   \n",
       "1      Bagalkot  Amengad PS  0002/2016   1  2016      1   \n",
       "2      Bagalkot  Amengad PS  0003/2016   1  2016      1   \n",
       "3      Bagalkot  Amengad PS  0004/2016   1  2016      1   \n",
       "4      Bagalkot  Amengad PS  0005/2016   1  2016      1   \n",
       "\n",
       "         Offence_From_Date          Offence_To_Date         FIR_Reg_DateTime  \\\n",
       "0  2015-12-27 12:00:00.000  2015-12-27 12:05:00.000  2016-01-05 11:00:00.000   \n",
       "1  2016-01-12 17:30:00.000  2016-01-12 17:35:00.000  2016-01-12 19:00:00.000   \n",
       "2  2016-01-12 17:45:00.000  2016-01-12 17:50:00.000  2016-01-12 19:30:00.000   \n",
       "3  2016-01-14 21:30:00.000  2016-01-14 21:35:00.000  2016-01-15 14:00:00.000   \n",
       "4  2016-01-18 15:00:00.000  2016-01-18 15:05:00.000  2016-01-18 19:30:00.000   \n",
       "\n",
       "     FIR_Date  ... VICTIM COUNT Accused Count Arrested Male Arrested Female  \\\n",
       "0  05/01/2016  ...            0             1             1               0   \n",
       "1  12/01/2016  ...            0             5             5               0   \n",
       "2  12/01/2016  ...            0             1             1               0   \n",
       "3  15/01/2016  ...            0             1             1               0   \n",
       "4  18/01/2016  ...            0             1             1               0   \n",
       "\n",
       "  Arrested Count\\tNo.  Accused_ChargeSheeted Count  Conviction Count  \\\n",
       "0                   1                            1                 0   \n",
       "1                   5                            5                 2   \n",
       "2                   1                            1                 0   \n",
       "3                   1                            1                 0   \n",
       "4                   1                            1                 0   \n",
       "\n",
       "       FIR_ID Unit_ID           Crime_No  \n",
       "0  2016000002    1245  10470124520160001  \n",
       "1  2016000003    1245  10470124520160002  \n",
       "2  2016000004    1245  10470124520160003  \n",
       "3  2016000005    1245  10470124520160004  \n",
       "4  2016000006    1245  10470124520160005  \n",
       "\n",
       "[5 rows x 41 columns]"
      ]
     },
     "metadata": {},
     "output_type": "display_data"
    },
    {
     "name": "stdout",
     "output_type": "stream",
     "text": [
      "\n",
      "\n",
      "Head of dataset 3:\n"
     ]
    },
    {
     "data": {
      "text/html": [
       "<div>\n",
       "<style scoped>\n",
       "    .dataframe tbody tr th:only-of-type {\n",
       "        vertical-align: middle;\n",
       "    }\n",
       "\n",
       "    .dataframe tbody tr th {\n",
       "        vertical-align: top;\n",
       "    }\n",
       "\n",
       "    .dataframe thead th {\n",
       "        text-align: right;\n",
       "    }\n",
       "</style>\n",
       "<table border=\"1\" class=\"dataframe\">\n",
       "  <thead>\n",
       "    <tr style=\"text-align: right;\">\n",
       "      <th></th>\n",
       "      <th>District_Name</th>\n",
       "      <th>UnitName</th>\n",
       "      <th>FIRNo</th>\n",
       "      <th>Year</th>\n",
       "      <th>Month</th>\n",
       "      <th>Name</th>\n",
       "      <th>age</th>\n",
       "      <th>Caste</th>\n",
       "      <th>Profession</th>\n",
       "      <th>Sex</th>\n",
       "      <th>...</th>\n",
       "      <th>PermanentAddress</th>\n",
       "      <th>PermanentCity</th>\n",
       "      <th>PermanentState</th>\n",
       "      <th>Nationality_Name</th>\n",
       "      <th>DOB</th>\n",
       "      <th>Person_No</th>\n",
       "      <th>Crime_No</th>\n",
       "      <th>Arr_ID</th>\n",
       "      <th>Charge_Sheeted</th>\n",
       "      <th>Charge_Sheet_Number</th>\n",
       "    </tr>\n",
       "  </thead>\n",
       "  <tbody>\n",
       "    <tr>\n",
       "      <th>0</th>\n",
       "      <td>Bagalkot</td>\n",
       "      <td>Amengad PS</td>\n",
       "      <td>0001/2016</td>\n",
       "      <td>2016</td>\n",
       "      <td>1</td>\n",
       "      <td>YAMxxxxxDAR</td>\n",
       "      <td>26.0</td>\n",
       "      <td>VADDA</td>\n",
       "      <td>Labourer</td>\n",
       "      <td>MALE</td>\n",
       "      <td>...</td>\n",
       "      <td>HUVINAHALLI,TQ-HUNAGUND</td>\n",
       "      <td>Bagalkot</td>\n",
       "      <td>Karnataka</td>\n",
       "      <td>India</td>\n",
       "      <td>NaN</td>\n",
       "      <td>A1</td>\n",
       "      <td>10470124520160001</td>\n",
       "      <td>2016000031</td>\n",
       "      <td>1</td>\n",
       "      <td>2.016000e+09</td>\n",
       "    </tr>\n",
       "    <tr>\n",
       "      <th>1</th>\n",
       "      <td>Bagalkot</td>\n",
       "      <td>Amengad PS</td>\n",
       "      <td>0002/2016</td>\n",
       "      <td>2016</td>\n",
       "      <td>1</td>\n",
       "      <td>HANxxxxxALI</td>\n",
       "      <td>26.0</td>\n",
       "      <td>GANIGA</td>\n",
       "      <td>Farmer</td>\n",
       "      <td>MALE</td>\n",
       "      <td>...</td>\n",
       "      <td>RAKKASAGI,TQ-HUNAGUND</td>\n",
       "      <td>Bagalkot</td>\n",
       "      <td>Karnataka</td>\n",
       "      <td>India</td>\n",
       "      <td>NaN</td>\n",
       "      <td>A1</td>\n",
       "      <td>10470124520160002</td>\n",
       "      <td>2016000032</td>\n",
       "      <td>1</td>\n",
       "      <td>2.016000e+09</td>\n",
       "    </tr>\n",
       "    <tr>\n",
       "      <th>2</th>\n",
       "      <td>Bagalkot</td>\n",
       "      <td>Amengad PS</td>\n",
       "      <td>0002/2016</td>\n",
       "      <td>2016</td>\n",
       "      <td>1</td>\n",
       "      <td>KASxxxxxADI</td>\n",
       "      <td>26.0</td>\n",
       "      <td>SAMAGARA</td>\n",
       "      <td>Driver</td>\n",
       "      <td>MALE</td>\n",
       "      <td>...</td>\n",
       "      <td>HUNAGUND,TQ-HUNAGUND</td>\n",
       "      <td>Bagalkot</td>\n",
       "      <td>Karnataka</td>\n",
       "      <td>India</td>\n",
       "      <td>NaN</td>\n",
       "      <td>A4</td>\n",
       "      <td>10470124520160002</td>\n",
       "      <td>2016000035</td>\n",
       "      <td>1</td>\n",
       "      <td>2.016000e+09</td>\n",
       "    </tr>\n",
       "    <tr>\n",
       "      <th>3</th>\n",
       "      <td>Bagalkot</td>\n",
       "      <td>Amengad PS</td>\n",
       "      <td>0002/2016</td>\n",
       "      <td>2016</td>\n",
       "      <td>1</td>\n",
       "      <td>MAHxxxxxGER</td>\n",
       "      <td>27.0</td>\n",
       "      <td>PANCHAL</td>\n",
       "      <td>Farmer</td>\n",
       "      <td>MALE</td>\n",
       "      <td>...</td>\n",
       "      <td>ADIVIHAL,TQ-HUNAGUND</td>\n",
       "      <td>Bagalkot</td>\n",
       "      <td>Karnataka</td>\n",
       "      <td>India</td>\n",
       "      <td>NaN</td>\n",
       "      <td>A2</td>\n",
       "      <td>10470124520160002</td>\n",
       "      <td>2016000033</td>\n",
       "      <td>1</td>\n",
       "      <td>2.016000e+09</td>\n",
       "    </tr>\n",
       "    <tr>\n",
       "      <th>4</th>\n",
       "      <td>Bagalkot</td>\n",
       "      <td>Amengad PS</td>\n",
       "      <td>0002/2016</td>\n",
       "      <td>2016</td>\n",
       "      <td>1</td>\n",
       "      <td>KALxxxxxOVI</td>\n",
       "      <td>38.0</td>\n",
       "      <td>BHOVI</td>\n",
       "      <td>Farmer</td>\n",
       "      <td>MALE</td>\n",
       "      <td>...</td>\n",
       "      <td>GADACHINTI NOW AT RAKKASAGI,TQ-KUSTAGI</td>\n",
       "      <td>Koppal</td>\n",
       "      <td>Karnataka</td>\n",
       "      <td>India</td>\n",
       "      <td>NaN</td>\n",
       "      <td>A3</td>\n",
       "      <td>10470124520160002</td>\n",
       "      <td>2016000034</td>\n",
       "      <td>1</td>\n",
       "      <td>2.016000e+09</td>\n",
       "    </tr>\n",
       "  </tbody>\n",
       "</table>\n",
       "<p>5 rows × 23 columns</p>\n",
       "</div>"
      ],
      "text/plain": [
       "  District_Name    UnitName      FIRNo  Year  Month         Name   age  \\\n",
       "0      Bagalkot  Amengad PS  0001/2016  2016      1  YAMxxxxxDAR  26.0   \n",
       "1      Bagalkot  Amengad PS  0002/2016  2016      1  HANxxxxxALI  26.0   \n",
       "2      Bagalkot  Amengad PS  0002/2016  2016      1  KASxxxxxADI  26.0   \n",
       "3      Bagalkot  Amengad PS  0002/2016  2016      1  MAHxxxxxGER  27.0   \n",
       "4      Bagalkot  Amengad PS  0002/2016  2016      1  KALxxxxxOVI  38.0   \n",
       "\n",
       "      Caste Profession   Sex  ...                        PermanentAddress  \\\n",
       "0     VADDA  Labourer   MALE  ...                 HUVINAHALLI,TQ-HUNAGUND   \n",
       "1    GANIGA    Farmer   MALE  ...                   RAKKASAGI,TQ-HUNAGUND   \n",
       "2  SAMAGARA     Driver  MALE  ...                    HUNAGUND,TQ-HUNAGUND   \n",
       "3   PANCHAL    Farmer   MALE  ...                    ADIVIHAL,TQ-HUNAGUND   \n",
       "4     BHOVI    Farmer   MALE  ...  GADACHINTI NOW AT RAKKASAGI,TQ-KUSTAGI   \n",
       "\n",
       "  PermanentCity PermanentState Nationality_Name  DOB Person_No  \\\n",
       "0      Bagalkot      Karnataka            India  NaN        A1   \n",
       "1      Bagalkot      Karnataka            India  NaN        A1   \n",
       "2      Bagalkot      Karnataka            India  NaN        A4   \n",
       "3      Bagalkot      Karnataka            India  NaN        A2   \n",
       "4        Koppal      Karnataka            India  NaN        A3   \n",
       "\n",
       "            Crime_No      Arr_ID Charge_Sheeted  Charge_Sheet_Number  \n",
       "0  10470124520160001  2016000031              1         2.016000e+09  \n",
       "1  10470124520160002  2016000032              1         2.016000e+09  \n",
       "2  10470124520160002  2016000035              1         2.016000e+09  \n",
       "3  10470124520160002  2016000033              1         2.016000e+09  \n",
       "4  10470124520160002  2016000034              1         2.016000e+09  \n",
       "\n",
       "[5 rows x 23 columns]"
      ]
     },
     "metadata": {},
     "output_type": "display_data"
    },
    {
     "name": "stdout",
     "output_type": "stream",
     "text": [
      "\n",
      "\n"
     ]
    }
   ],
   "source": [
    "# Print the head of each dataset\n",
    "for i, dataset in enumerate(datasets, start=1):\n",
    "    print(f\"Head of dataset {i}:\")\n",
    "    display(dataset.head())\n",
    "    print(\"\\n\")"
   ]
  },
  {
   "cell_type": "code",
   "execution_count": 5,
   "metadata": {},
   "outputs": [
    {
     "name": "stdout",
     "output_type": "stream",
     "text": [
      "Features present in dataset 1:\n"
     ]
    },
    {
     "data": {
      "text/plain": [
       "'District_Name'"
      ]
     },
     "metadata": {},
     "output_type": "display_data"
    },
    {
     "data": {
      "text/plain": [
       "'UnitName'"
      ]
     },
     "metadata": {},
     "output_type": "display_data"
    },
    {
     "data": {
      "text/plain": [
       "'FIRNo'"
      ]
     },
     "metadata": {},
     "output_type": "display_data"
    },
    {
     "data": {
      "text/plain": [
       "'Year'"
      ]
     },
     "metadata": {},
     "output_type": "display_data"
    },
    {
     "data": {
      "text/plain": [
       "'Month'"
      ]
     },
     "metadata": {},
     "output_type": "display_data"
    },
    {
     "data": {
      "text/plain": [
       "'ComplainantName'"
      ]
     },
     "metadata": {},
     "output_type": "display_data"
    },
    {
     "data": {
      "text/plain": [
       "'Relation'"
      ]
     },
     "metadata": {},
     "output_type": "display_data"
    },
    {
     "data": {
      "text/plain": [
       "'RelationshipName'"
      ]
     },
     "metadata": {},
     "output_type": "display_data"
    },
    {
     "data": {
      "text/plain": [
       "'DateOfBirth'"
      ]
     },
     "metadata": {},
     "output_type": "display_data"
    },
    {
     "data": {
      "text/plain": [
       "'Age'"
      ]
     },
     "metadata": {},
     "output_type": "display_data"
    },
    {
     "data": {
      "text/plain": [
       "'Sex'"
      ]
     },
     "metadata": {},
     "output_type": "display_data"
    },
    {
     "data": {
      "text/plain": [
       "'Nationality'"
      ]
     },
     "metadata": {},
     "output_type": "display_data"
    },
    {
     "data": {
      "text/plain": [
       "'Occupation'"
      ]
     },
     "metadata": {},
     "output_type": "display_data"
    },
    {
     "data": {
      "text/plain": [
       "'Address'"
      ]
     },
     "metadata": {},
     "output_type": "display_data"
    },
    {
     "data": {
      "text/plain": [
       "'City'"
      ]
     },
     "metadata": {},
     "output_type": "display_data"
    },
    {
     "data": {
      "text/plain": [
       "'State'"
      ]
     },
     "metadata": {},
     "output_type": "display_data"
    },
    {
     "data": {
      "text/plain": [
       "'Pincode'"
      ]
     },
     "metadata": {},
     "output_type": "display_data"
    },
    {
     "data": {
      "text/plain": [
       "'Caste'"
      ]
     },
     "metadata": {},
     "output_type": "display_data"
    },
    {
     "data": {
      "text/plain": [
       "'Religion'"
      ]
     },
     "metadata": {},
     "output_type": "display_data"
    },
    {
     "data": {
      "text/plain": [
       "'FIR_ID'"
      ]
     },
     "metadata": {},
     "output_type": "display_data"
    },
    {
     "data": {
      "text/plain": [
       "'Unit_ID'"
      ]
     },
     "metadata": {},
     "output_type": "display_data"
    },
    {
     "data": {
      "text/plain": [
       "'Complaint_ID'"
      ]
     },
     "metadata": {},
     "output_type": "display_data"
    },
    {
     "name": "stdout",
     "output_type": "stream",
     "text": [
      "\n",
      "Features present in dataset 2:\n"
     ]
    },
    {
     "data": {
      "text/plain": [
       "'District_Name'"
      ]
     },
     "metadata": {},
     "output_type": "display_data"
    },
    {
     "data": {
      "text/plain": [
       "'UnitName'"
      ]
     },
     "metadata": {},
     "output_type": "display_data"
    },
    {
     "data": {
      "text/plain": [
       "'FIRNo'"
      ]
     },
     "metadata": {},
     "output_type": "display_data"
    },
    {
     "data": {
      "text/plain": [
       "'RI'"
      ]
     },
     "metadata": {},
     "output_type": "display_data"
    },
    {
     "data": {
      "text/plain": [
       "'Year'"
      ]
     },
     "metadata": {},
     "output_type": "display_data"
    },
    {
     "data": {
      "text/plain": [
       "'Month'"
      ]
     },
     "metadata": {},
     "output_type": "display_data"
    },
    {
     "data": {
      "text/plain": [
       "'Offence_From_Date'"
      ]
     },
     "metadata": {},
     "output_type": "display_data"
    },
    {
     "data": {
      "text/plain": [
       "'Offence_To_Date'"
      ]
     },
     "metadata": {},
     "output_type": "display_data"
    },
    {
     "data": {
      "text/plain": [
       "'FIR_Reg_DateTime'"
      ]
     },
     "metadata": {},
     "output_type": "display_data"
    },
    {
     "data": {
      "text/plain": [
       "'FIR_Date'"
      ]
     },
     "metadata": {},
     "output_type": "display_data"
    },
    {
     "data": {
      "text/plain": [
       "'FIR Type'"
      ]
     },
     "metadata": {},
     "output_type": "display_data"
    },
    {
     "data": {
      "text/plain": [
       "'FIR_Stage'"
      ]
     },
     "metadata": {},
     "output_type": "display_data"
    },
    {
     "data": {
      "text/plain": [
       "'Complaint_Mode'"
      ]
     },
     "metadata": {},
     "output_type": "display_data"
    },
    {
     "data": {
      "text/plain": [
       "'CrimeGroup_Name'"
      ]
     },
     "metadata": {},
     "output_type": "display_data"
    },
    {
     "data": {
      "text/plain": [
       "'CrimeHead_Name'"
      ]
     },
     "metadata": {},
     "output_type": "display_data"
    },
    {
     "data": {
      "text/plain": [
       "'Latitude'"
      ]
     },
     "metadata": {},
     "output_type": "display_data"
    },
    {
     "data": {
      "text/plain": [
       "'Longitude'"
      ]
     },
     "metadata": {},
     "output_type": "display_data"
    },
    {
     "data": {
      "text/plain": [
       "'ActSection'"
      ]
     },
     "metadata": {},
     "output_type": "display_data"
    },
    {
     "data": {
      "text/plain": [
       "'IOName'"
      ]
     },
     "metadata": {},
     "output_type": "display_data"
    },
    {
     "data": {
      "text/plain": [
       "'KGID'"
      ]
     },
     "metadata": {},
     "output_type": "display_data"
    },
    {
     "data": {
      "text/plain": [
       "'IOAssigned_Date'"
      ]
     },
     "metadata": {},
     "output_type": "display_data"
    },
    {
     "data": {
      "text/plain": [
       "'Internal_IO'"
      ]
     },
     "metadata": {},
     "output_type": "display_data"
    },
    {
     "data": {
      "text/plain": [
       "'Place of Offence'"
      ]
     },
     "metadata": {},
     "output_type": "display_data"
    },
    {
     "data": {
      "text/plain": [
       "'Distance from PS'"
      ]
     },
     "metadata": {},
     "output_type": "display_data"
    },
    {
     "data": {
      "text/plain": [
       "'Beat_Name'"
      ]
     },
     "metadata": {},
     "output_type": "display_data"
    },
    {
     "data": {
      "text/plain": [
       "'Village_Area_Name'"
      ]
     },
     "metadata": {},
     "output_type": "display_data"
    },
    {
     "data": {
      "text/plain": [
       "'Male'"
      ]
     },
     "metadata": {},
     "output_type": "display_data"
    },
    {
     "data": {
      "text/plain": [
       "'Female'"
      ]
     },
     "metadata": {},
     "output_type": "display_data"
    },
    {
     "data": {
      "text/plain": [
       "'Boy'"
      ]
     },
     "metadata": {},
     "output_type": "display_data"
    },
    {
     "data": {
      "text/plain": [
       "'Girl'"
      ]
     },
     "metadata": {},
     "output_type": "display_data"
    },
    {
     "data": {
      "text/plain": [
       "'Age 0'"
      ]
     },
     "metadata": {},
     "output_type": "display_data"
    },
    {
     "data": {
      "text/plain": [
       "'VICTIM COUNT'"
      ]
     },
     "metadata": {},
     "output_type": "display_data"
    },
    {
     "data": {
      "text/plain": [
       "'Accused Count'"
      ]
     },
     "metadata": {},
     "output_type": "display_data"
    },
    {
     "data": {
      "text/plain": [
       "'Arrested Male'"
      ]
     },
     "metadata": {},
     "output_type": "display_data"
    },
    {
     "data": {
      "text/plain": [
       "'Arrested Female'"
      ]
     },
     "metadata": {},
     "output_type": "display_data"
    },
    {
     "data": {
      "text/plain": [
       "'Arrested Count\\tNo.'"
      ]
     },
     "metadata": {},
     "output_type": "display_data"
    },
    {
     "data": {
      "text/plain": [
       "'Accused_ChargeSheeted Count'"
      ]
     },
     "metadata": {},
     "output_type": "display_data"
    },
    {
     "data": {
      "text/plain": [
       "'Conviction Count'"
      ]
     },
     "metadata": {},
     "output_type": "display_data"
    },
    {
     "data": {
      "text/plain": [
       "'FIR_ID'"
      ]
     },
     "metadata": {},
     "output_type": "display_data"
    },
    {
     "data": {
      "text/plain": [
       "'Unit_ID'"
      ]
     },
     "metadata": {},
     "output_type": "display_data"
    },
    {
     "data": {
      "text/plain": [
       "'Crime_No'"
      ]
     },
     "metadata": {},
     "output_type": "display_data"
    },
    {
     "name": "stdout",
     "output_type": "stream",
     "text": [
      "\n",
      "Features present in dataset 3:\n"
     ]
    },
    {
     "data": {
      "text/plain": [
       "'District_Name'"
      ]
     },
     "metadata": {},
     "output_type": "display_data"
    },
    {
     "data": {
      "text/plain": [
       "'UnitName'"
      ]
     },
     "metadata": {},
     "output_type": "display_data"
    },
    {
     "data": {
      "text/plain": [
       "'FIRNo'"
      ]
     },
     "metadata": {},
     "output_type": "display_data"
    },
    {
     "data": {
      "text/plain": [
       "'Year'"
      ]
     },
     "metadata": {},
     "output_type": "display_data"
    },
    {
     "data": {
      "text/plain": [
       "'Month'"
      ]
     },
     "metadata": {},
     "output_type": "display_data"
    },
    {
     "data": {
      "text/plain": [
       "'Name'"
      ]
     },
     "metadata": {},
     "output_type": "display_data"
    },
    {
     "data": {
      "text/plain": [
       "'age'"
      ]
     },
     "metadata": {},
     "output_type": "display_data"
    },
    {
     "data": {
      "text/plain": [
       "'Caste'"
      ]
     },
     "metadata": {},
     "output_type": "display_data"
    },
    {
     "data": {
      "text/plain": [
       "'Profession'"
      ]
     },
     "metadata": {},
     "output_type": "display_data"
    },
    {
     "data": {
      "text/plain": [
       "'Sex'"
      ]
     },
     "metadata": {},
     "output_type": "display_data"
    },
    {
     "data": {
      "text/plain": [
       "'PresentAddress'"
      ]
     },
     "metadata": {},
     "output_type": "display_data"
    },
    {
     "data": {
      "text/plain": [
       "'PresentCity'"
      ]
     },
     "metadata": {},
     "output_type": "display_data"
    },
    {
     "data": {
      "text/plain": [
       "'PresentState'"
      ]
     },
     "metadata": {},
     "output_type": "display_data"
    },
    {
     "data": {
      "text/plain": [
       "'PermanentAddress'"
      ]
     },
     "metadata": {},
     "output_type": "display_data"
    },
    {
     "data": {
      "text/plain": [
       "'PermanentCity'"
      ]
     },
     "metadata": {},
     "output_type": "display_data"
    },
    {
     "data": {
      "text/plain": [
       "'PermanentState'"
      ]
     },
     "metadata": {},
     "output_type": "display_data"
    },
    {
     "data": {
      "text/plain": [
       "'Nationality_Name'"
      ]
     },
     "metadata": {},
     "output_type": "display_data"
    },
    {
     "data": {
      "text/plain": [
       "'DOB'"
      ]
     },
     "metadata": {},
     "output_type": "display_data"
    },
    {
     "data": {
      "text/plain": [
       "'Person_No'"
      ]
     },
     "metadata": {},
     "output_type": "display_data"
    },
    {
     "data": {
      "text/plain": [
       "'Crime_No'"
      ]
     },
     "metadata": {},
     "output_type": "display_data"
    },
    {
     "data": {
      "text/plain": [
       "'Arr_ID'"
      ]
     },
     "metadata": {},
     "output_type": "display_data"
    },
    {
     "data": {
      "text/plain": [
       "'Charge_Sheeted'"
      ]
     },
     "metadata": {},
     "output_type": "display_data"
    },
    {
     "data": {
      "text/plain": [
       "'Charge_Sheet_Number'"
      ]
     },
     "metadata": {},
     "output_type": "display_data"
    },
    {
     "name": "stdout",
     "output_type": "stream",
     "text": [
      "\n"
     ]
    }
   ],
   "source": [
    "# Iterate over each dataset and print its features\n",
    "for i, dataset in enumerate(datasets, start=1):\n",
    "    print(f\"Features present in dataset {i}:\")\n",
    "    for feature in dataset.columns:\n",
    "        display(feature)\n",
    "    print()  # Add an empty line for better readability between datasets"
   ]
  },
  {
   "cell_type": "code",
   "execution_count": 6,
   "metadata": {},
   "outputs": [
    {
     "name": "stdout",
     "output_type": "stream",
     "text": [
      "Exploratory Data Analysis for dataset 1:\n",
      "Features present in dataset:\n"
     ]
    },
    {
     "data": {
      "text/plain": [
       "'District_Name'"
      ]
     },
     "metadata": {},
     "output_type": "display_data"
    },
    {
     "data": {
      "text/plain": [
       "'UnitName'"
      ]
     },
     "metadata": {},
     "output_type": "display_data"
    },
    {
     "data": {
      "text/plain": [
       "'FIRNo'"
      ]
     },
     "metadata": {},
     "output_type": "display_data"
    },
    {
     "data": {
      "text/plain": [
       "'Year'"
      ]
     },
     "metadata": {},
     "output_type": "display_data"
    },
    {
     "data": {
      "text/plain": [
       "'Month'"
      ]
     },
     "metadata": {},
     "output_type": "display_data"
    },
    {
     "data": {
      "text/plain": [
       "'ComplainantName'"
      ]
     },
     "metadata": {},
     "output_type": "display_data"
    },
    {
     "data": {
      "text/plain": [
       "'Relation'"
      ]
     },
     "metadata": {},
     "output_type": "display_data"
    },
    {
     "data": {
      "text/plain": [
       "'RelationshipName'"
      ]
     },
     "metadata": {},
     "output_type": "display_data"
    },
    {
     "data": {
      "text/plain": [
       "'DateOfBirth'"
      ]
     },
     "metadata": {},
     "output_type": "display_data"
    },
    {
     "data": {
      "text/plain": [
       "'Age'"
      ]
     },
     "metadata": {},
     "output_type": "display_data"
    },
    {
     "data": {
      "text/plain": [
       "'Sex'"
      ]
     },
     "metadata": {},
     "output_type": "display_data"
    },
    {
     "data": {
      "text/plain": [
       "'Nationality'"
      ]
     },
     "metadata": {},
     "output_type": "display_data"
    },
    {
     "data": {
      "text/plain": [
       "'Occupation'"
      ]
     },
     "metadata": {},
     "output_type": "display_data"
    },
    {
     "data": {
      "text/plain": [
       "'Address'"
      ]
     },
     "metadata": {},
     "output_type": "display_data"
    },
    {
     "data": {
      "text/plain": [
       "'City'"
      ]
     },
     "metadata": {},
     "output_type": "display_data"
    },
    {
     "data": {
      "text/plain": [
       "'State'"
      ]
     },
     "metadata": {},
     "output_type": "display_data"
    },
    {
     "data": {
      "text/plain": [
       "'Pincode'"
      ]
     },
     "metadata": {},
     "output_type": "display_data"
    },
    {
     "data": {
      "text/plain": [
       "'Caste'"
      ]
     },
     "metadata": {},
     "output_type": "display_data"
    },
    {
     "data": {
      "text/plain": [
       "'Religion'"
      ]
     },
     "metadata": {},
     "output_type": "display_data"
    },
    {
     "data": {
      "text/plain": [
       "'FIR_ID'"
      ]
     },
     "metadata": {},
     "output_type": "display_data"
    },
    {
     "data": {
      "text/plain": [
       "'Unit_ID'"
      ]
     },
     "metadata": {},
     "output_type": "display_data"
    },
    {
     "data": {
      "text/plain": [
       "'Complaint_ID'"
      ]
     },
     "metadata": {},
     "output_type": "display_data"
    },
    {
     "name": "stdout",
     "output_type": "stream",
     "text": [
      "\n",
      "Checking for missing values:\n",
      "Missing values found:\n"
     ]
    },
    {
     "data": {
      "text/plain": [
       "District_Name             0\n",
       "UnitName                  0\n",
       "FIRNo                     0\n",
       "Year                      0\n",
       "Month                     0\n",
       "ComplainantName           0\n",
       "Relation             485092\n",
       "RelationshipName     509856\n",
       "DateOfBirth               0\n",
       "Age                       0\n",
       "Sex                  135307\n",
       "Nationality               3\n",
       "Occupation           249829\n",
       "Address                   0\n",
       "City                     77\n",
       "State                    75\n",
       "Pincode             1268030\n",
       "Caste                761447\n",
       "Religion             530060\n",
       "FIR_ID                    0\n",
       "Unit_ID                   0\n",
       "Complaint_ID              0\n",
       "dtype: int64"
      ]
     },
     "metadata": {},
     "output_type": "display_data"
    },
    {
     "name": "stdout",
     "output_type": "stream",
     "text": [
      "\n",
      "Summary statistics:\n"
     ]
    },
    {
     "data": {
      "text/html": [
       "<div>\n",
       "<style scoped>\n",
       "    .dataframe tbody tr th:only-of-type {\n",
       "        vertical-align: middle;\n",
       "    }\n",
       "\n",
       "    .dataframe tbody tr th {\n",
       "        vertical-align: top;\n",
       "    }\n",
       "\n",
       "    .dataframe thead th {\n",
       "        text-align: right;\n",
       "    }\n",
       "</style>\n",
       "<table border=\"1\" class=\"dataframe\">\n",
       "  <thead>\n",
       "    <tr style=\"text-align: right;\">\n",
       "      <th></th>\n",
       "      <th>Year</th>\n",
       "      <th>Month</th>\n",
       "      <th>Age</th>\n",
       "      <th>Pincode</th>\n",
       "      <th>FIR_ID</th>\n",
       "      <th>Unit_ID</th>\n",
       "      <th>Complaint_ID</th>\n",
       "    </tr>\n",
       "  </thead>\n",
       "  <tbody>\n",
       "    <tr>\n",
       "      <th>count</th>\n",
       "      <td>1.696392e+06</td>\n",
       "      <td>1.696392e+06</td>\n",
       "      <td>1.696392e+06</td>\n",
       "      <td>428362.000000</td>\n",
       "      <td>1.696392e+06</td>\n",
       "      <td>1.696392e+06</td>\n",
       "      <td>1.696392e+06</td>\n",
       "    </tr>\n",
       "    <tr>\n",
       "      <th>mean</th>\n",
       "      <td>2.019498e+03</td>\n",
       "      <td>6.265200e+00</td>\n",
       "      <td>3.616596e+01</td>\n",
       "      <td>564079.751901</td>\n",
       "      <td>2.019499e+09</td>\n",
       "      <td>1.196884e+03</td>\n",
       "      <td>2.019499e+09</td>\n",
       "    </tr>\n",
       "    <tr>\n",
       "      <th>std</th>\n",
       "      <td>2.469588e+00</td>\n",
       "      <td>3.450739e+00</td>\n",
       "      <td>1.656828e+01</td>\n",
       "      <td>20943.173524</td>\n",
       "      <td>2.469649e+06</td>\n",
       "      <td>6.148898e+02</td>\n",
       "      <td>2.469490e+06</td>\n",
       "    </tr>\n",
       "    <tr>\n",
       "      <th>min</th>\n",
       "      <td>2.016000e+03</td>\n",
       "      <td>1.000000e+00</td>\n",
       "      <td>0.000000e+00</td>\n",
       "      <td>56097.000000</td>\n",
       "      <td>2.003000e+09</td>\n",
       "      <td>6.000000e+00</td>\n",
       "      <td>2.003000e+09</td>\n",
       "    </tr>\n",
       "    <tr>\n",
       "      <th>25%</th>\n",
       "      <td>2.017000e+03</td>\n",
       "      <td>3.000000e+00</td>\n",
       "      <td>2.800000e+01</td>\n",
       "      <td>560039.000000</td>\n",
       "      <td>2.017000e+09</td>\n",
       "      <td>7.520000e+02</td>\n",
       "      <td>2.017000e+09</td>\n",
       "    </tr>\n",
       "    <tr>\n",
       "      <th>50%</th>\n",
       "      <td>2.019000e+03</td>\n",
       "      <td>6.000000e+00</td>\n",
       "      <td>3.600000e+01</td>\n",
       "      <td>560073.000000</td>\n",
       "      <td>2.019000e+09</td>\n",
       "      <td>1.334000e+03</td>\n",
       "      <td>2.019000e+09</td>\n",
       "    </tr>\n",
       "    <tr>\n",
       "      <th>75%</th>\n",
       "      <td>2.022000e+03</td>\n",
       "      <td>9.000000e+00</td>\n",
       "      <td>4.700000e+01</td>\n",
       "      <td>562157.000000</td>\n",
       "      <td>2.022000e+09</td>\n",
       "      <td>1.642000e+03</td>\n",
       "      <td>2.022000e+09</td>\n",
       "    </tr>\n",
       "    <tr>\n",
       "      <th>max</th>\n",
       "      <td>2.024000e+03</td>\n",
       "      <td>1.200000e+01</td>\n",
       "      <td>1.190000e+02</td>\n",
       "      <td>996381.000000</td>\n",
       "      <td>2.024000e+09</td>\n",
       "      <td>2.348000e+03</td>\n",
       "      <td>2.024000e+09</td>\n",
       "    </tr>\n",
       "  </tbody>\n",
       "</table>\n",
       "</div>"
      ],
      "text/plain": [
       "               Year         Month           Age        Pincode        FIR_ID  \\\n",
       "count  1.696392e+06  1.696392e+06  1.696392e+06  428362.000000  1.696392e+06   \n",
       "mean   2.019498e+03  6.265200e+00  3.616596e+01  564079.751901  2.019499e+09   \n",
       "std    2.469588e+00  3.450739e+00  1.656828e+01   20943.173524  2.469649e+06   \n",
       "min    2.016000e+03  1.000000e+00  0.000000e+00   56097.000000  2.003000e+09   \n",
       "25%    2.017000e+03  3.000000e+00  2.800000e+01  560039.000000  2.017000e+09   \n",
       "50%    2.019000e+03  6.000000e+00  3.600000e+01  560073.000000  2.019000e+09   \n",
       "75%    2.022000e+03  9.000000e+00  4.700000e+01  562157.000000  2.022000e+09   \n",
       "max    2.024000e+03  1.200000e+01  1.190000e+02  996381.000000  2.024000e+09   \n",
       "\n",
       "            Unit_ID  Complaint_ID  \n",
       "count  1.696392e+06  1.696392e+06  \n",
       "mean   1.196884e+03  2.019499e+09  \n",
       "std    6.148898e+02  2.469490e+06  \n",
       "min    6.000000e+00  2.003000e+09  \n",
       "25%    7.520000e+02  2.017000e+09  \n",
       "50%    1.334000e+03  2.019000e+09  \n",
       "75%    1.642000e+03  2.022000e+09  \n",
       "max    2.348000e+03  2.024000e+09  "
      ]
     },
     "metadata": {},
     "output_type": "display_data"
    },
    {
     "name": "stdout",
     "output_type": "stream",
     "text": [
      "\n",
      "\n",
      "Exploratory Data Analysis for dataset 2:\n",
      "Features present in dataset:\n"
     ]
    },
    {
     "data": {
      "text/plain": [
       "'District_Name'"
      ]
     },
     "metadata": {},
     "output_type": "display_data"
    },
    {
     "data": {
      "text/plain": [
       "'UnitName'"
      ]
     },
     "metadata": {},
     "output_type": "display_data"
    },
    {
     "data": {
      "text/plain": [
       "'FIRNo'"
      ]
     },
     "metadata": {},
     "output_type": "display_data"
    },
    {
     "data": {
      "text/plain": [
       "'RI'"
      ]
     },
     "metadata": {},
     "output_type": "display_data"
    },
    {
     "data": {
      "text/plain": [
       "'Year'"
      ]
     },
     "metadata": {},
     "output_type": "display_data"
    },
    {
     "data": {
      "text/plain": [
       "'Month'"
      ]
     },
     "metadata": {},
     "output_type": "display_data"
    },
    {
     "data": {
      "text/plain": [
       "'Offence_From_Date'"
      ]
     },
     "metadata": {},
     "output_type": "display_data"
    },
    {
     "data": {
      "text/plain": [
       "'Offence_To_Date'"
      ]
     },
     "metadata": {},
     "output_type": "display_data"
    },
    {
     "data": {
      "text/plain": [
       "'FIR_Reg_DateTime'"
      ]
     },
     "metadata": {},
     "output_type": "display_data"
    },
    {
     "data": {
      "text/plain": [
       "'FIR_Date'"
      ]
     },
     "metadata": {},
     "output_type": "display_data"
    },
    {
     "data": {
      "text/plain": [
       "'FIR Type'"
      ]
     },
     "metadata": {},
     "output_type": "display_data"
    },
    {
     "data": {
      "text/plain": [
       "'FIR_Stage'"
      ]
     },
     "metadata": {},
     "output_type": "display_data"
    },
    {
     "data": {
      "text/plain": [
       "'Complaint_Mode'"
      ]
     },
     "metadata": {},
     "output_type": "display_data"
    },
    {
     "data": {
      "text/plain": [
       "'CrimeGroup_Name'"
      ]
     },
     "metadata": {},
     "output_type": "display_data"
    },
    {
     "data": {
      "text/plain": [
       "'CrimeHead_Name'"
      ]
     },
     "metadata": {},
     "output_type": "display_data"
    },
    {
     "data": {
      "text/plain": [
       "'Latitude'"
      ]
     },
     "metadata": {},
     "output_type": "display_data"
    },
    {
     "data": {
      "text/plain": [
       "'Longitude'"
      ]
     },
     "metadata": {},
     "output_type": "display_data"
    },
    {
     "data": {
      "text/plain": [
       "'ActSection'"
      ]
     },
     "metadata": {},
     "output_type": "display_data"
    },
    {
     "data": {
      "text/plain": [
       "'IOName'"
      ]
     },
     "metadata": {},
     "output_type": "display_data"
    },
    {
     "data": {
      "text/plain": [
       "'KGID'"
      ]
     },
     "metadata": {},
     "output_type": "display_data"
    },
    {
     "data": {
      "text/plain": [
       "'IOAssigned_Date'"
      ]
     },
     "metadata": {},
     "output_type": "display_data"
    },
    {
     "data": {
      "text/plain": [
       "'Internal_IO'"
      ]
     },
     "metadata": {},
     "output_type": "display_data"
    },
    {
     "data": {
      "text/plain": [
       "'Place of Offence'"
      ]
     },
     "metadata": {},
     "output_type": "display_data"
    },
    {
     "data": {
      "text/plain": [
       "'Distance from PS'"
      ]
     },
     "metadata": {},
     "output_type": "display_data"
    },
    {
     "data": {
      "text/plain": [
       "'Beat_Name'"
      ]
     },
     "metadata": {},
     "output_type": "display_data"
    },
    {
     "data": {
      "text/plain": [
       "'Village_Area_Name'"
      ]
     },
     "metadata": {},
     "output_type": "display_data"
    },
    {
     "data": {
      "text/plain": [
       "'Male'"
      ]
     },
     "metadata": {},
     "output_type": "display_data"
    },
    {
     "data": {
      "text/plain": [
       "'Female'"
      ]
     },
     "metadata": {},
     "output_type": "display_data"
    },
    {
     "data": {
      "text/plain": [
       "'Boy'"
      ]
     },
     "metadata": {},
     "output_type": "display_data"
    },
    {
     "data": {
      "text/plain": [
       "'Girl'"
      ]
     },
     "metadata": {},
     "output_type": "display_data"
    },
    {
     "data": {
      "text/plain": [
       "'Age 0'"
      ]
     },
     "metadata": {},
     "output_type": "display_data"
    },
    {
     "data": {
      "text/plain": [
       "'VICTIM COUNT'"
      ]
     },
     "metadata": {},
     "output_type": "display_data"
    },
    {
     "data": {
      "text/plain": [
       "'Accused Count'"
      ]
     },
     "metadata": {},
     "output_type": "display_data"
    },
    {
     "data": {
      "text/plain": [
       "'Arrested Male'"
      ]
     },
     "metadata": {},
     "output_type": "display_data"
    },
    {
     "data": {
      "text/plain": [
       "'Arrested Female'"
      ]
     },
     "metadata": {},
     "output_type": "display_data"
    },
    {
     "data": {
      "text/plain": [
       "'Arrested Count\\tNo.'"
      ]
     },
     "metadata": {},
     "output_type": "display_data"
    },
    {
     "data": {
      "text/plain": [
       "'Accused_ChargeSheeted Count'"
      ]
     },
     "metadata": {},
     "output_type": "display_data"
    },
    {
     "data": {
      "text/plain": [
       "'Conviction Count'"
      ]
     },
     "metadata": {},
     "output_type": "display_data"
    },
    {
     "data": {
      "text/plain": [
       "'FIR_ID'"
      ]
     },
     "metadata": {},
     "output_type": "display_data"
    },
    {
     "data": {
      "text/plain": [
       "'Unit_ID'"
      ]
     },
     "metadata": {},
     "output_type": "display_data"
    },
    {
     "data": {
      "text/plain": [
       "'Crime_No'"
      ]
     },
     "metadata": {},
     "output_type": "display_data"
    },
    {
     "name": "stdout",
     "output_type": "stream",
     "text": [
      "\n",
      "Checking for missing values:\n",
      "Missing values found:\n"
     ]
    },
    {
     "data": {
      "text/plain": [
       "District_Name                        0\n",
       "UnitName                             0\n",
       "FIRNo                                0\n",
       "RI                                   0\n",
       "Year                                 0\n",
       "Month                                0\n",
       "Offence_From_Date                    0\n",
       "Offence_To_Date                      1\n",
       "FIR_Reg_DateTime                     0\n",
       "FIR_Date                             0\n",
       "FIR Type                             2\n",
       "FIR_Stage                            0\n",
       "Complaint_Mode                   18430\n",
       "CrimeGroup_Name                      0\n",
       "CrimeHead_Name                       0\n",
       "Latitude                             5\n",
       "Longitude                            5\n",
       "ActSection                          42\n",
       "IOName                             150\n",
       "KGID                               150\n",
       "IOAssigned_Date                1694182\n",
       "Internal_IO                          0\n",
       "Place of Offence                     0\n",
       "Distance from PS                   567\n",
       "Beat_Name                           64\n",
       "Village_Area_Name                  138\n",
       "Male                                 0\n",
       "Female                               0\n",
       "Boy                                  0\n",
       "Girl                                 0\n",
       "Age 0                                0\n",
       "VICTIM COUNT                         0\n",
       "Accused Count                        0\n",
       "Arrested Male                        0\n",
       "Arrested Female                      0\n",
       "Arrested Count\\tNo.                  0\n",
       "Accused_ChargeSheeted Count          0\n",
       "Conviction Count                     0\n",
       "FIR_ID                               0\n",
       "Unit_ID                              0\n",
       "Crime_No                             0\n",
       "dtype: int64"
      ]
     },
     "metadata": {},
     "output_type": "display_data"
    },
    {
     "name": "stdout",
     "output_type": "stream",
     "text": [
      "\n",
      "Summary statistics:\n"
     ]
    },
    {
     "data": {
      "text/html": [
       "<div>\n",
       "<style scoped>\n",
       "    .dataframe tbody tr th:only-of-type {\n",
       "        vertical-align: middle;\n",
       "    }\n",
       "\n",
       "    .dataframe tbody tr th {\n",
       "        vertical-align: top;\n",
       "    }\n",
       "\n",
       "    .dataframe thead th {\n",
       "        text-align: right;\n",
       "    }\n",
       "</style>\n",
       "<table border=\"1\" class=\"dataframe\">\n",
       "  <thead>\n",
       "    <tr style=\"text-align: right;\">\n",
       "      <th></th>\n",
       "      <th>RI</th>\n",
       "      <th>Year</th>\n",
       "      <th>Month</th>\n",
       "      <th>Latitude</th>\n",
       "      <th>Longitude</th>\n",
       "      <th>Internal_IO</th>\n",
       "      <th>Male</th>\n",
       "      <th>Female</th>\n",
       "      <th>Boy</th>\n",
       "      <th>Girl</th>\n",
       "      <th>...</th>\n",
       "      <th>VICTIM COUNT</th>\n",
       "      <th>Accused Count</th>\n",
       "      <th>Arrested Male</th>\n",
       "      <th>Arrested Female</th>\n",
       "      <th>Arrested Count\\tNo.</th>\n",
       "      <th>Accused_ChargeSheeted Count</th>\n",
       "      <th>Conviction Count</th>\n",
       "      <th>FIR_ID</th>\n",
       "      <th>Unit_ID</th>\n",
       "      <th>Crime_No</th>\n",
       "    </tr>\n",
       "  </thead>\n",
       "  <tbody>\n",
       "    <tr>\n",
       "      <th>count</th>\n",
       "      <td>1694191.0</td>\n",
       "      <td>1.694191e+06</td>\n",
       "      <td>1.694191e+06</td>\n",
       "      <td>1.694186e+06</td>\n",
       "      <td>1.694186e+06</td>\n",
       "      <td>1.694191e+06</td>\n",
       "      <td>1.694191e+06</td>\n",
       "      <td>1.694191e+06</td>\n",
       "      <td>1.694191e+06</td>\n",
       "      <td>1.694191e+06</td>\n",
       "      <td>...</td>\n",
       "      <td>1.694191e+06</td>\n",
       "      <td>1.694191e+06</td>\n",
       "      <td>1.694191e+06</td>\n",
       "      <td>1.694191e+06</td>\n",
       "      <td>1.694191e+06</td>\n",
       "      <td>1.694191e+06</td>\n",
       "      <td>1.694191e+06</td>\n",
       "      <td>1.694191e+06</td>\n",
       "      <td>1.694191e+06</td>\n",
       "      <td>1.694191e+06</td>\n",
       "    </tr>\n",
       "    <tr>\n",
       "      <th>mean</th>\n",
       "      <td>1.0</td>\n",
       "      <td>2.019498e+03</td>\n",
       "      <td>6.265559e+00</td>\n",
       "      <td>4.777780e+00</td>\n",
       "      <td>2.256945e+01</td>\n",
       "      <td>1.051404e+08</td>\n",
       "      <td>5.297101e-01</td>\n",
       "      <td>2.314975e-01</td>\n",
       "      <td>2.650587e-02</td>\n",
       "      <td>4.013597e-02</td>\n",
       "      <td>...</td>\n",
       "      <td>2.768283e-04</td>\n",
       "      <td>1.781500e+00</td>\n",
       "      <td>8.219380e-01</td>\n",
       "      <td>7.806676e-02</td>\n",
       "      <td>9.005466e-01</td>\n",
       "      <td>1.542069e+00</td>\n",
       "      <td>3.451736e-01</td>\n",
       "      <td>2.019499e+09</td>\n",
       "      <td>1.196936e+03</td>\n",
       "      <td>1.053624e+16</td>\n",
       "    </tr>\n",
       "    <tr>\n",
       "      <th>std</th>\n",
       "      <td>0.0</td>\n",
       "      <td>2.469614e+00</td>\n",
       "      <td>3.450797e+00</td>\n",
       "      <td>9.312399e+00</td>\n",
       "      <td>3.484787e+01</td>\n",
       "      <td>7.697634e+07</td>\n",
       "      <td>7.869578e-01</td>\n",
       "      <td>5.762274e-01</td>\n",
       "      <td>2.036732e-01</td>\n",
       "      <td>2.336817e-01</td>\n",
       "      <td>...</td>\n",
       "      <td>2.583600e-02</td>\n",
       "      <td>2.750907e+00</td>\n",
       "      <td>1.749466e+00</td>\n",
       "      <td>4.361517e-01</td>\n",
       "      <td>1.896494e+00</td>\n",
       "      <td>2.567539e+00</td>\n",
       "      <td>1.154536e+00</td>\n",
       "      <td>2.469606e+06</td>\n",
       "      <td>6.152223e+02</td>\n",
       "      <td>8.497911e+14</td>\n",
       "    </tr>\n",
       "    <tr>\n",
       "      <th>min</th>\n",
       "      <td>1.0</td>\n",
       "      <td>2.016000e+03</td>\n",
       "      <td>1.000000e+00</td>\n",
       "      <td>-7.709293e-01</td>\n",
       "      <td>0.000000e+00</td>\n",
       "      <td>0.000000e+00</td>\n",
       "      <td>0.000000e+00</td>\n",
       "      <td>0.000000e+00</td>\n",
       "      <td>0.000000e+00</td>\n",
       "      <td>0.000000e+00</td>\n",
       "      <td>...</td>\n",
       "      <td>0.000000e+00</td>\n",
       "      <td>0.000000e+00</td>\n",
       "      <td>0.000000e+00</td>\n",
       "      <td>0.000000e+00</td>\n",
       "      <td>0.000000e+00</td>\n",
       "      <td>0.000000e+00</td>\n",
       "      <td>0.000000e+00</td>\n",
       "      <td>2.016000e+09</td>\n",
       "      <td>6.000000e+00</td>\n",
       "      <td>1.043801e+16</td>\n",
       "    </tr>\n",
       "    <tr>\n",
       "      <th>25%</th>\n",
       "      <td>1.0</td>\n",
       "      <td>2.017000e+03</td>\n",
       "      <td>3.000000e+00</td>\n",
       "      <td>0.000000e+00</td>\n",
       "      <td>0.000000e+00</td>\n",
       "      <td>4.890003e+07</td>\n",
       "      <td>0.000000e+00</td>\n",
       "      <td>0.000000e+00</td>\n",
       "      <td>0.000000e+00</td>\n",
       "      <td>0.000000e+00</td>\n",
       "      <td>...</td>\n",
       "      <td>0.000000e+00</td>\n",
       "      <td>1.000000e+00</td>\n",
       "      <td>0.000000e+00</td>\n",
       "      <td>0.000000e+00</td>\n",
       "      <td>0.000000e+00</td>\n",
       "      <td>0.000000e+00</td>\n",
       "      <td>0.000000e+00</td>\n",
       "      <td>2.017000e+09</td>\n",
       "      <td>7.520000e+02</td>\n",
       "      <td>1.044318e+16</td>\n",
       "    </tr>\n",
       "    <tr>\n",
       "      <th>50%</th>\n",
       "      <td>1.0</td>\n",
       "      <td>2.019000e+03</td>\n",
       "      <td>6.000000e+00</td>\n",
       "      <td>0.000000e+00</td>\n",
       "      <td>0.000000e+00</td>\n",
       "      <td>1.077015e+08</td>\n",
       "      <td>0.000000e+00</td>\n",
       "      <td>0.000000e+00</td>\n",
       "      <td>0.000000e+00</td>\n",
       "      <td>0.000000e+00</td>\n",
       "      <td>...</td>\n",
       "      <td>0.000000e+00</td>\n",
       "      <td>1.000000e+00</td>\n",
       "      <td>0.000000e+00</td>\n",
       "      <td>0.000000e+00</td>\n",
       "      <td>0.000000e+00</td>\n",
       "      <td>1.000000e+00</td>\n",
       "      <td>0.000000e+00</td>\n",
       "      <td>2.019000e+09</td>\n",
       "      <td>1.336000e+03</td>\n",
       "      <td>1.044919e+16</td>\n",
       "    </tr>\n",
       "    <tr>\n",
       "      <th>75%</th>\n",
       "      <td>1.0</td>\n",
       "      <td>2.022000e+03</td>\n",
       "      <td>9.000000e+00</td>\n",
       "      <td>1.290353e+01</td>\n",
       "      <td>7.501574e+01</td>\n",
       "      <td>1.457000e+08</td>\n",
       "      <td>1.000000e+00</td>\n",
       "      <td>0.000000e+00</td>\n",
       "      <td>0.000000e+00</td>\n",
       "      <td>0.000000e+00</td>\n",
       "      <td>...</td>\n",
       "      <td>0.000000e+00</td>\n",
       "      <td>2.000000e+00</td>\n",
       "      <td>1.000000e+00</td>\n",
       "      <td>0.000000e+00</td>\n",
       "      <td>1.000000e+00</td>\n",
       "      <td>2.000000e+00</td>\n",
       "      <td>0.000000e+00</td>\n",
       "      <td>2.022000e+09</td>\n",
       "      <td>1.642000e+03</td>\n",
       "      <td>1.046321e+16</td>\n",
       "    </tr>\n",
       "    <tr>\n",
       "      <th>max</th>\n",
       "      <td>1.0</td>\n",
       "      <td>2.024000e+03</td>\n",
       "      <td>1.200000e+01</td>\n",
       "      <td>1.314300e+02</td>\n",
       "      <td>7.777447e+02</td>\n",
       "      <td>1.943000e+09</td>\n",
       "      <td>9.400000e+01</td>\n",
       "      <td>7.300000e+01</td>\n",
       "      <td>4.500000e+01</td>\n",
       "      <td>4.800000e+01</td>\n",
       "      <td>...</td>\n",
       "      <td>1.600000e+01</td>\n",
       "      <td>2.890000e+02</td>\n",
       "      <td>2.020000e+02</td>\n",
       "      <td>6.300000e+01</td>\n",
       "      <td>2.070000e+02</td>\n",
       "      <td>3.300000e+02</td>\n",
       "      <td>7.400000e+01</td>\n",
       "      <td>2.024000e+09</td>\n",
       "      <td>2.348000e+03</td>\n",
       "      <td>1.044322e+17</td>\n",
       "    </tr>\n",
       "  </tbody>\n",
       "</table>\n",
       "<p>8 rows × 21 columns</p>\n",
       "</div>"
      ],
      "text/plain": [
       "              RI          Year         Month      Latitude     Longitude  \\\n",
       "count  1694191.0  1.694191e+06  1.694191e+06  1.694186e+06  1.694186e+06   \n",
       "mean         1.0  2.019498e+03  6.265559e+00  4.777780e+00  2.256945e+01   \n",
       "std          0.0  2.469614e+00  3.450797e+00  9.312399e+00  3.484787e+01   \n",
       "min          1.0  2.016000e+03  1.000000e+00 -7.709293e-01  0.000000e+00   \n",
       "25%          1.0  2.017000e+03  3.000000e+00  0.000000e+00  0.000000e+00   \n",
       "50%          1.0  2.019000e+03  6.000000e+00  0.000000e+00  0.000000e+00   \n",
       "75%          1.0  2.022000e+03  9.000000e+00  1.290353e+01  7.501574e+01   \n",
       "max          1.0  2.024000e+03  1.200000e+01  1.314300e+02  7.777447e+02   \n",
       "\n",
       "        Internal_IO          Male        Female           Boy          Girl  \\\n",
       "count  1.694191e+06  1.694191e+06  1.694191e+06  1.694191e+06  1.694191e+06   \n",
       "mean   1.051404e+08  5.297101e-01  2.314975e-01  2.650587e-02  4.013597e-02   \n",
       "std    7.697634e+07  7.869578e-01  5.762274e-01  2.036732e-01  2.336817e-01   \n",
       "min    0.000000e+00  0.000000e+00  0.000000e+00  0.000000e+00  0.000000e+00   \n",
       "25%    4.890003e+07  0.000000e+00  0.000000e+00  0.000000e+00  0.000000e+00   \n",
       "50%    1.077015e+08  0.000000e+00  0.000000e+00  0.000000e+00  0.000000e+00   \n",
       "75%    1.457000e+08  1.000000e+00  0.000000e+00  0.000000e+00  0.000000e+00   \n",
       "max    1.943000e+09  9.400000e+01  7.300000e+01  4.500000e+01  4.800000e+01   \n",
       "\n",
       "       ...  VICTIM COUNT  Accused Count  Arrested Male  Arrested Female  \\\n",
       "count  ...  1.694191e+06   1.694191e+06   1.694191e+06     1.694191e+06   \n",
       "mean   ...  2.768283e-04   1.781500e+00   8.219380e-01     7.806676e-02   \n",
       "std    ...  2.583600e-02   2.750907e+00   1.749466e+00     4.361517e-01   \n",
       "min    ...  0.000000e+00   0.000000e+00   0.000000e+00     0.000000e+00   \n",
       "25%    ...  0.000000e+00   1.000000e+00   0.000000e+00     0.000000e+00   \n",
       "50%    ...  0.000000e+00   1.000000e+00   0.000000e+00     0.000000e+00   \n",
       "75%    ...  0.000000e+00   2.000000e+00   1.000000e+00     0.000000e+00   \n",
       "max    ...  1.600000e+01   2.890000e+02   2.020000e+02     6.300000e+01   \n",
       "\n",
       "       Arrested Count\\tNo.  Accused_ChargeSheeted Count  Conviction Count  \\\n",
       "count         1.694191e+06                 1.694191e+06      1.694191e+06   \n",
       "mean          9.005466e-01                 1.542069e+00      3.451736e-01   \n",
       "std           1.896494e+00                 2.567539e+00      1.154536e+00   \n",
       "min           0.000000e+00                 0.000000e+00      0.000000e+00   \n",
       "25%           0.000000e+00                 0.000000e+00      0.000000e+00   \n",
       "50%           0.000000e+00                 1.000000e+00      0.000000e+00   \n",
       "75%           1.000000e+00                 2.000000e+00      0.000000e+00   \n",
       "max           2.070000e+02                 3.300000e+02      7.400000e+01   \n",
       "\n",
       "             FIR_ID       Unit_ID      Crime_No  \n",
       "count  1.694191e+06  1.694191e+06  1.694191e+06  \n",
       "mean   2.019499e+09  1.196936e+03  1.053624e+16  \n",
       "std    2.469606e+06  6.152223e+02  8.497911e+14  \n",
       "min    2.016000e+09  6.000000e+00  1.043801e+16  \n",
       "25%    2.017000e+09  7.520000e+02  1.044318e+16  \n",
       "50%    2.019000e+09  1.336000e+03  1.044919e+16  \n",
       "75%    2.022000e+09  1.642000e+03  1.046321e+16  \n",
       "max    2.024000e+09  2.348000e+03  1.044322e+17  \n",
       "\n",
       "[8 rows x 21 columns]"
      ]
     },
     "metadata": {},
     "output_type": "display_data"
    },
    {
     "name": "stdout",
     "output_type": "stream",
     "text": [
      "\n",
      "\n",
      "Exploratory Data Analysis for dataset 3:\n",
      "Features present in dataset:\n"
     ]
    },
    {
     "data": {
      "text/plain": [
       "'District_Name'"
      ]
     },
     "metadata": {},
     "output_type": "display_data"
    },
    {
     "data": {
      "text/plain": [
       "'UnitName'"
      ]
     },
     "metadata": {},
     "output_type": "display_data"
    },
    {
     "data": {
      "text/plain": [
       "'FIRNo'"
      ]
     },
     "metadata": {},
     "output_type": "display_data"
    },
    {
     "data": {
      "text/plain": [
       "'Year'"
      ]
     },
     "metadata": {},
     "output_type": "display_data"
    },
    {
     "data": {
      "text/plain": [
       "'Month'"
      ]
     },
     "metadata": {},
     "output_type": "display_data"
    },
    {
     "data": {
      "text/plain": [
       "'Name'"
      ]
     },
     "metadata": {},
     "output_type": "display_data"
    },
    {
     "data": {
      "text/plain": [
       "'age'"
      ]
     },
     "metadata": {},
     "output_type": "display_data"
    },
    {
     "data": {
      "text/plain": [
       "'Caste'"
      ]
     },
     "metadata": {},
     "output_type": "display_data"
    },
    {
     "data": {
      "text/plain": [
       "'Profession'"
      ]
     },
     "metadata": {},
     "output_type": "display_data"
    },
    {
     "data": {
      "text/plain": [
       "'Sex'"
      ]
     },
     "metadata": {},
     "output_type": "display_data"
    },
    {
     "data": {
      "text/plain": [
       "'PresentAddress'"
      ]
     },
     "metadata": {},
     "output_type": "display_data"
    },
    {
     "data": {
      "text/plain": [
       "'PresentCity'"
      ]
     },
     "metadata": {},
     "output_type": "display_data"
    },
    {
     "data": {
      "text/plain": [
       "'PresentState'"
      ]
     },
     "metadata": {},
     "output_type": "display_data"
    },
    {
     "data": {
      "text/plain": [
       "'PermanentAddress'"
      ]
     },
     "metadata": {},
     "output_type": "display_data"
    },
    {
     "data": {
      "text/plain": [
       "'PermanentCity'"
      ]
     },
     "metadata": {},
     "output_type": "display_data"
    },
    {
     "data": {
      "text/plain": [
       "'PermanentState'"
      ]
     },
     "metadata": {},
     "output_type": "display_data"
    },
    {
     "data": {
      "text/plain": [
       "'Nationality_Name'"
      ]
     },
     "metadata": {},
     "output_type": "display_data"
    },
    {
     "data": {
      "text/plain": [
       "'DOB'"
      ]
     },
     "metadata": {},
     "output_type": "display_data"
    },
    {
     "data": {
      "text/plain": [
       "'Person_No'"
      ]
     },
     "metadata": {},
     "output_type": "display_data"
    },
    {
     "data": {
      "text/plain": [
       "'Crime_No'"
      ]
     },
     "metadata": {},
     "output_type": "display_data"
    },
    {
     "data": {
      "text/plain": [
       "'Arr_ID'"
      ]
     },
     "metadata": {},
     "output_type": "display_data"
    },
    {
     "data": {
      "text/plain": [
       "'Charge_Sheeted'"
      ]
     },
     "metadata": {},
     "output_type": "display_data"
    },
    {
     "data": {
      "text/plain": [
       "'Charge_Sheet_Number'"
      ]
     },
     "metadata": {},
     "output_type": "display_data"
    },
    {
     "name": "stdout",
     "output_type": "stream",
     "text": [
      "\n",
      "Checking for missing values:\n",
      "Missing values found:\n"
     ]
    },
    {
     "data": {
      "text/plain": [
       "District_Name                0\n",
       "UnitName                     0\n",
       "FIRNo                        0\n",
       "Year                         0\n",
       "Month                        0\n",
       "Name                         1\n",
       "age                         74\n",
       "Caste                   128390\n",
       "Profession              110921\n",
       "Sex                        378\n",
       "PresentAddress               0\n",
       "PresentCity               1161\n",
       "PresentState               420\n",
       "PermanentAddress             0\n",
       "PermanentCity             1161\n",
       "PermanentState             420\n",
       "Nationality_Name          1490\n",
       "DOB                    1498680\n",
       "Person_No                  282\n",
       "Crime_No                     0\n",
       "Arr_ID                       0\n",
       "Charge_Sheeted               0\n",
       "Charge_Sheet_Number     135167\n",
       "dtype: int64"
      ]
     },
     "metadata": {},
     "output_type": "display_data"
    },
    {
     "name": "stdout",
     "output_type": "stream",
     "text": [
      "\n",
      "Summary statistics:\n"
     ]
    },
    {
     "data": {
      "text/html": [
       "<div>\n",
       "<style scoped>\n",
       "    .dataframe tbody tr th:only-of-type {\n",
       "        vertical-align: middle;\n",
       "    }\n",
       "\n",
       "    .dataframe tbody tr th {\n",
       "        vertical-align: top;\n",
       "    }\n",
       "\n",
       "    .dataframe thead th {\n",
       "        text-align: right;\n",
       "    }\n",
       "</style>\n",
       "<table border=\"1\" class=\"dataframe\">\n",
       "  <thead>\n",
       "    <tr style=\"text-align: right;\">\n",
       "      <th></th>\n",
       "      <th>Year</th>\n",
       "      <th>Month</th>\n",
       "      <th>age</th>\n",
       "      <th>Crime_No</th>\n",
       "      <th>Arr_ID</th>\n",
       "      <th>Charge_Sheeted</th>\n",
       "      <th>Charge_Sheet_Number</th>\n",
       "    </tr>\n",
       "  </thead>\n",
       "  <tbody>\n",
       "    <tr>\n",
       "      <th>count</th>\n",
       "      <td>1.527375e+06</td>\n",
       "      <td>1.527375e+06</td>\n",
       "      <td>1.527301e+06</td>\n",
       "      <td>1.527375e+06</td>\n",
       "      <td>1.527375e+06</td>\n",
       "      <td>1.527375e+06</td>\n",
       "      <td>1.392208e+06</td>\n",
       "    </tr>\n",
       "    <tr>\n",
       "      <th>mean</th>\n",
       "      <td>2.019272e+03</td>\n",
       "      <td>6.306856e+00</td>\n",
       "      <td>3.548327e+01</td>\n",
       "      <td>1.053852e+16</td>\n",
       "      <td>2.019468e+09</td>\n",
       "      <td>9.115037e-01</td>\n",
       "      <td>2.019592e+09</td>\n",
       "    </tr>\n",
       "    <tr>\n",
       "      <th>std</th>\n",
       "      <td>2.295566e+00</td>\n",
       "      <td>3.399777e+00</td>\n",
       "      <td>1.226317e+01</td>\n",
       "      <td>1.956976e+14</td>\n",
       "      <td>2.314113e+06</td>\n",
       "      <td>2.840154e-01</td>\n",
       "      <td>2.289557e+06</td>\n",
       "    </tr>\n",
       "    <tr>\n",
       "      <th>min</th>\n",
       "      <td>2.016000e+03</td>\n",
       "      <td>1.000000e+00</td>\n",
       "      <td>0.000000e+00</td>\n",
       "      <td>1.043801e+16</td>\n",
       "      <td>2.004000e+09</td>\n",
       "      <td>0.000000e+00</td>\n",
       "      <td>2.004000e+09</td>\n",
       "    </tr>\n",
       "    <tr>\n",
       "      <th>25%</th>\n",
       "      <td>2.017000e+03</td>\n",
       "      <td>3.000000e+00</td>\n",
       "      <td>2.600000e+01</td>\n",
       "      <td>1.044320e+16</td>\n",
       "      <td>2.017002e+09</td>\n",
       "      <td>1.000000e+00</td>\n",
       "      <td>2.018000e+09</td>\n",
       "    </tr>\n",
       "    <tr>\n",
       "      <th>50%</th>\n",
       "      <td>2.019000e+03</td>\n",
       "      <td>6.000000e+00</td>\n",
       "      <td>3.300000e+01</td>\n",
       "      <td>1.045416e+16</td>\n",
       "      <td>2.019001e+09</td>\n",
       "      <td>1.000000e+00</td>\n",
       "      <td>2.020000e+09</td>\n",
       "    </tr>\n",
       "    <tr>\n",
       "      <th>75%</th>\n",
       "      <td>2.021000e+03</td>\n",
       "      <td>9.000000e+00</td>\n",
       "      <td>4.300000e+01</td>\n",
       "      <td>1.046417e+16</td>\n",
       "      <td>2.021001e+09</td>\n",
       "      <td>1.000000e+00</td>\n",
       "      <td>2.022000e+09</td>\n",
       "    </tr>\n",
       "    <tr>\n",
       "      <th>max</th>\n",
       "      <td>2.024000e+03</td>\n",
       "      <td>1.200000e+01</td>\n",
       "      <td>8.400000e+02</td>\n",
       "      <td>1.098619e+16</td>\n",
       "      <td>2.024001e+09</td>\n",
       "      <td>1.000000e+00</td>\n",
       "      <td>2.024000e+09</td>\n",
       "    </tr>\n",
       "  </tbody>\n",
       "</table>\n",
       "</div>"
      ],
      "text/plain": [
       "               Year         Month           age      Crime_No        Arr_ID  \\\n",
       "count  1.527375e+06  1.527375e+06  1.527301e+06  1.527375e+06  1.527375e+06   \n",
       "mean   2.019272e+03  6.306856e+00  3.548327e+01  1.053852e+16  2.019468e+09   \n",
       "std    2.295566e+00  3.399777e+00  1.226317e+01  1.956976e+14  2.314113e+06   \n",
       "min    2.016000e+03  1.000000e+00  0.000000e+00  1.043801e+16  2.004000e+09   \n",
       "25%    2.017000e+03  3.000000e+00  2.600000e+01  1.044320e+16  2.017002e+09   \n",
       "50%    2.019000e+03  6.000000e+00  3.300000e+01  1.045416e+16  2.019001e+09   \n",
       "75%    2.021000e+03  9.000000e+00  4.300000e+01  1.046417e+16  2.021001e+09   \n",
       "max    2.024000e+03  1.200000e+01  8.400000e+02  1.098619e+16  2.024001e+09   \n",
       "\n",
       "       Charge_Sheeted  Charge_Sheet_Number  \n",
       "count    1.527375e+06         1.392208e+06  \n",
       "mean     9.115037e-01         2.019592e+09  \n",
       "std      2.840154e-01         2.289557e+06  \n",
       "min      0.000000e+00         2.004000e+09  \n",
       "25%      1.000000e+00         2.018000e+09  \n",
       "50%      1.000000e+00         2.020000e+09  \n",
       "75%      1.000000e+00         2.022000e+09  \n",
       "max      1.000000e+00         2.024000e+09  "
      ]
     },
     "metadata": {},
     "output_type": "display_data"
    },
    {
     "name": "stdout",
     "output_type": "stream",
     "text": [
      "\n",
      "\n"
     ]
    }
   ],
   "source": [
    "# Iterate over each dataset and perform exploratory data analysis\n",
    "for i, dataset in enumerate(datasets, start=1):\n",
    "    print(f\"Exploratory Data Analysis for dataset {i}:\")\n",
    "    print(\"Features present in dataset:\")\n",
    "    for feature in dataset.columns:\n",
    "        display(feature)\n",
    "\n",
    "    print(\"\\nChecking for missing values:\")\n",
    "    missing_values = dataset.isnull().sum()\n",
    "    if missing_values.sum() == 0:\n",
    "        print(\"No missing values found.\")\n",
    "    else:\n",
    "        print(\"Missing values found:\")\n",
    "        display(missing_values)\n",
    "\n",
    "    print(\"\\nSummary statistics:\")\n",
    "    display(dataset.describe())\n",
    "\n",
    "    # Additional EDA tasks such as visualizations can be added here\n",
    "\n",
    "    print(\"\\n\")  # Add an empty line for better readability between datasets\n"
   ]
  },
  {
   "cell_type": "code",
   "execution_count": 8,
   "metadata": {},
   "outputs": [],
   "source": [
    "# Most frequent value\n",
    "d1['Nationality'].fillna(d1['Nationality'].mode()[0], inplace=True)\n",
    "d1['City'].fillna(d1['City'].mode()[0], inplace=True)\n",
    "d1['State'].fillna(d1['State'].mode()[0], inplace=True)\n",
    "d1['Occupation'].fillna(d1['Occupation'].mode()[0], inplace=True)"
   ]
  },
  {
   "cell_type": "code",
   "execution_count": 9,
   "metadata": {},
   "outputs": [],
   "source": [
    "#New unknown category for caste\n",
    "d1['Relation'].fillna('Unknown', inplace=True)\n",
    "d1['RelationshipName'].fillna('Unknown', inplace=True)\n",
    "d1['Sex'].fillna('Unknown', inplace=True)\n",
    "d1['Pincode'].fillna('Unknown', inplace=True)\n",
    "d1['Caste'].fillna('Unknown', inplace=True)\n",
    "d1['Religion'].fillna('Unknown', inplace=True)"
   ]
  },
  {
   "cell_type": "code",
   "execution_count": 10,
   "metadata": {},
   "outputs": [
    {
     "data": {
      "text/plain": [
       "District_Name       0\n",
       "UnitName            0\n",
       "FIRNo               0\n",
       "Year                0\n",
       "Month               0\n",
       "ComplainantName     0\n",
       "Relation            0\n",
       "RelationshipName    0\n",
       "DateOfBirth         0\n",
       "Age                 0\n",
       "Sex                 0\n",
       "Nationality         0\n",
       "Occupation          0\n",
       "Address             0\n",
       "City                0\n",
       "State               0\n",
       "Pincode             0\n",
       "Caste               0\n",
       "Religion            0\n",
       "FIR_ID              0\n",
       "Unit_ID             0\n",
       "Complaint_ID        0\n",
       "dtype: int64"
      ]
     },
     "execution_count": 10,
     "metadata": {},
     "output_type": "execute_result"
    }
   ],
   "source": [
    "d1.isnull().sum()"
   ]
  },
  {
   "cell_type": "code",
   "execution_count": 11,
   "metadata": {},
   "outputs": [
    {
     "data": {
      "text/html": [
       "<div>\n",
       "<style scoped>\n",
       "    .dataframe tbody tr th:only-of-type {\n",
       "        vertical-align: middle;\n",
       "    }\n",
       "\n",
       "    .dataframe tbody tr th {\n",
       "        vertical-align: top;\n",
       "    }\n",
       "\n",
       "    .dataframe thead th {\n",
       "        text-align: right;\n",
       "    }\n",
       "</style>\n",
       "<table border=\"1\" class=\"dataframe\">\n",
       "  <thead>\n",
       "    <tr style=\"text-align: right;\">\n",
       "      <th></th>\n",
       "      <th>District_Name</th>\n",
       "      <th>UnitName</th>\n",
       "      <th>FIRNo</th>\n",
       "      <th>Year</th>\n",
       "      <th>Month</th>\n",
       "      <th>ComplainantName</th>\n",
       "      <th>Relation</th>\n",
       "      <th>RelationshipName</th>\n",
       "      <th>DateOfBirth</th>\n",
       "      <th>Age</th>\n",
       "      <th>...</th>\n",
       "      <th>Occupation</th>\n",
       "      <th>Address</th>\n",
       "      <th>City</th>\n",
       "      <th>State</th>\n",
       "      <th>Pincode</th>\n",
       "      <th>Caste</th>\n",
       "      <th>Religion</th>\n",
       "      <th>FIR_ID</th>\n",
       "      <th>Unit_ID</th>\n",
       "      <th>Complaint_ID</th>\n",
       "    </tr>\n",
       "  </thead>\n",
       "  <tbody>\n",
       "    <tr>\n",
       "      <th>0</th>\n",
       "      <td>Bagalkot</td>\n",
       "      <td>Amengad PS</td>\n",
       "      <td>0001/2016</td>\n",
       "      <td>2016</td>\n",
       "      <td>1</td>\n",
       "      <td>BASAYYA HIREMATH</td>\n",
       "      <td>Father</td>\n",
       "      <td>SHANKRAYYA</td>\n",
       "      <td>1900-01-01 00:00:00.000</td>\n",
       "      <td>40</td>\n",
       "      <td>...</td>\n",
       "      <td>Labourer</td>\n",
       "      <td>HUVINAHALLI,TQ-HUNAGUND</td>\n",
       "      <td>Bagalkot</td>\n",
       "      <td>Karnataka</td>\n",
       "      <td>Unknown</td>\n",
       "      <td>Lingayath</td>\n",
       "      <td>Hindu</td>\n",
       "      <td>2016000002</td>\n",
       "      <td>1245</td>\n",
       "      <td>2016000002</td>\n",
       "    </tr>\n",
       "    <tr>\n",
       "      <th>1</th>\n",
       "      <td>Bagalkot</td>\n",
       "      <td>Amengad PS</td>\n",
       "      <td>0002/2016</td>\n",
       "      <td>2016</td>\n",
       "      <td>1</td>\n",
       "      <td>R S BIRADAR PSI</td>\n",
       "      <td>Father</td>\n",
       "      <td>S</td>\n",
       "      <td>1900-01-01 00:00:00.000</td>\n",
       "      <td>48</td>\n",
       "      <td>...</td>\n",
       "      <td>Police officer</td>\n",
       "      <td>AMINAGAD PS,TQ-HUNAGUND</td>\n",
       "      <td>Bagalkot</td>\n",
       "      <td>Karnataka</td>\n",
       "      <td>Unknown</td>\n",
       "      <td>Unknown</td>\n",
       "      <td>Hindu</td>\n",
       "      <td>2016000003</td>\n",
       "      <td>1245</td>\n",
       "      <td>2016000003</td>\n",
       "    </tr>\n",
       "    <tr>\n",
       "      <th>2</th>\n",
       "      <td>Bagalkot</td>\n",
       "      <td>Amengad PS</td>\n",
       "      <td>0003/2016</td>\n",
       "      <td>2016</td>\n",
       "      <td>1</td>\n",
       "      <td>I R HADAPAD ASI</td>\n",
       "      <td>Father</td>\n",
       "      <td>R</td>\n",
       "      <td>1900-01-01 00:00:00.000</td>\n",
       "      <td>59</td>\n",
       "      <td>...</td>\n",
       "      <td>Police officer</td>\n",
       "      <td>AMINAGAD PS,TQ-HUNAGUND</td>\n",
       "      <td>Bagalkot</td>\n",
       "      <td>Karnataka</td>\n",
       "      <td>Unknown</td>\n",
       "      <td>Unknown</td>\n",
       "      <td>Hindu</td>\n",
       "      <td>2016000004</td>\n",
       "      <td>1245</td>\n",
       "      <td>2016000004</td>\n",
       "    </tr>\n",
       "    <tr>\n",
       "      <th>3</th>\n",
       "      <td>Bagalkot</td>\n",
       "      <td>Amengad PS</td>\n",
       "      <td>0004/2016</td>\n",
       "      <td>2016</td>\n",
       "      <td>1</td>\n",
       "      <td>MAHESH JANNU</td>\n",
       "      <td>Father</td>\n",
       "      <td>SADANAND</td>\n",
       "      <td>1900-01-01 00:00:00.000</td>\n",
       "      <td>40</td>\n",
       "      <td>...</td>\n",
       "      <td>Businessman</td>\n",
       "      <td>BASAVA NAGAR GOKAK CTS NO 190/5 PLAT NO 02,TQ-...</td>\n",
       "      <td>Belagavi Dist</td>\n",
       "      <td>Karnataka</td>\n",
       "      <td>Unknown</td>\n",
       "      <td>BRAHMIN</td>\n",
       "      <td>Hindu</td>\n",
       "      <td>2016000005</td>\n",
       "      <td>1245</td>\n",
       "      <td>2016000005</td>\n",
       "    </tr>\n",
       "    <tr>\n",
       "      <th>4</th>\n",
       "      <td>Bagalkot</td>\n",
       "      <td>Amengad PS</td>\n",
       "      <td>0005/2016</td>\n",
       "      <td>2016</td>\n",
       "      <td>1</td>\n",
       "      <td>SANGANABASAPPA SHANMUKHAPPA RESHMI</td>\n",
       "      <td>Unknown</td>\n",
       "      <td>Unknown</td>\n",
       "      <td>1900-01-01 00:00:00.000</td>\n",
       "      <td>0</td>\n",
       "      <td>...</td>\n",
       "      <td>Teacher</td>\n",
       "      <td>AMBLIKOPPA NOW AT ILKAL,TQ-HUNAGUND</td>\n",
       "      <td>Bagalkot</td>\n",
       "      <td>Karnataka</td>\n",
       "      <td>Unknown</td>\n",
       "      <td>GANIGA</td>\n",
       "      <td>Hindu</td>\n",
       "      <td>2016000006</td>\n",
       "      <td>1245</td>\n",
       "      <td>2016000006</td>\n",
       "    </tr>\n",
       "  </tbody>\n",
       "</table>\n",
       "<p>5 rows × 22 columns</p>\n",
       "</div>"
      ],
      "text/plain": [
       "  District_Name    UnitName      FIRNo  Year  Month  \\\n",
       "0      Bagalkot  Amengad PS  0001/2016  2016      1   \n",
       "1      Bagalkot  Amengad PS  0002/2016  2016      1   \n",
       "2      Bagalkot  Amengad PS  0003/2016  2016      1   \n",
       "3      Bagalkot  Amengad PS  0004/2016  2016      1   \n",
       "4      Bagalkot  Amengad PS  0005/2016  2016      1   \n",
       "\n",
       "                      ComplainantName Relation RelationshipName  \\\n",
       "0                    BASAYYA HIREMATH   Father       SHANKRAYYA   \n",
       "1                     R S BIRADAR PSI   Father                S   \n",
       "2                     I R HADAPAD ASI   Father                R   \n",
       "3                        MAHESH JANNU   Father         SADANAND   \n",
       "4  SANGANABASAPPA SHANMUKHAPPA RESHMI  Unknown          Unknown   \n",
       "\n",
       "               DateOfBirth  Age  ...       Occupation  \\\n",
       "0  1900-01-01 00:00:00.000   40  ...        Labourer    \n",
       "1  1900-01-01 00:00:00.000   48  ...  Police officer    \n",
       "2  1900-01-01 00:00:00.000   59  ...  Police officer    \n",
       "3  1900-01-01 00:00:00.000   40  ...     Businessman    \n",
       "4  1900-01-01 00:00:00.000    0  ...         Teacher    \n",
       "\n",
       "                                             Address           City  \\\n",
       "0                            HUVINAHALLI,TQ-HUNAGUND       Bagalkot   \n",
       "1                            AMINAGAD PS,TQ-HUNAGUND       Bagalkot   \n",
       "2                            AMINAGAD PS,TQ-HUNAGUND       Bagalkot   \n",
       "3  BASAVA NAGAR GOKAK CTS NO 190/5 PLAT NO 02,TQ-...  Belagavi Dist   \n",
       "4                AMBLIKOPPA NOW AT ILKAL,TQ-HUNAGUND       Bagalkot   \n",
       "\n",
       "       State  Pincode      Caste Religion      FIR_ID Unit_ID  Complaint_ID  \n",
       "0  Karnataka  Unknown  Lingayath   Hindu   2016000002    1245    2016000002  \n",
       "1  Karnataka  Unknown    Unknown   Hindu   2016000003    1245    2016000003  \n",
       "2  Karnataka  Unknown    Unknown   Hindu   2016000004    1245    2016000004  \n",
       "3  Karnataka  Unknown    BRAHMIN   Hindu   2016000005    1245    2016000005  \n",
       "4  Karnataka  Unknown     GANIGA   Hindu   2016000006    1245    2016000006  \n",
       "\n",
       "[5 rows x 22 columns]"
      ]
     },
     "execution_count": 11,
     "metadata": {},
     "output_type": "execute_result"
    }
   ],
   "source": [
    "d1.head()"
   ]
  },
  {
   "cell_type": "code",
   "execution_count": 12,
   "metadata": {},
   "outputs": [
    {
     "data": {
      "text/plain": [
       "(1696392, 22)"
      ]
     },
     "execution_count": 12,
     "metadata": {},
     "output_type": "execute_result"
    }
   ],
   "source": [
    "d1.shape"
   ]
  },
  {
   "cell_type": "code",
   "execution_count": 13,
   "metadata": {},
   "outputs": [
    {
     "name": "stdout",
     "output_type": "stream",
     "text": [
      "<class 'pandas.core.frame.DataFrame'>\n",
      "RangeIndex: 1696392 entries, 0 to 1696391\n",
      "Data columns (total 22 columns):\n",
      " #   Column            Dtype \n",
      "---  ------            ----- \n",
      " 0   District_Name     object\n",
      " 1   UnitName          object\n",
      " 2   FIRNo             object\n",
      " 3   Year              int64 \n",
      " 4   Month             int64 \n",
      " 5   ComplainantName   object\n",
      " 6   Relation          object\n",
      " 7   RelationshipName  object\n",
      " 8   DateOfBirth       object\n",
      " 9   Age               int64 \n",
      " 10  Sex               object\n",
      " 11  Nationality       object\n",
      " 12  Occupation        object\n",
      " 13  Address           object\n",
      " 14  City              object\n",
      " 15  State             object\n",
      " 16  Pincode           object\n",
      " 17  Caste             object\n",
      " 18  Religion          object\n",
      " 19  FIR_ID            int64 \n",
      " 20  Unit_ID           int64 \n",
      " 21  Complaint_ID      int64 \n",
      "dtypes: int64(6), object(16)\n",
      "memory usage: 284.7+ MB\n"
     ]
    }
   ],
   "source": [
    "d1.info()"
   ]
  },
  {
   "cell_type": "code",
   "execution_count": 14,
   "metadata": {},
   "outputs": [],
   "source": [
    "#import matplotlib.pyplot as plt\n",
    "#import seaborn as sns\n",
    "#sns.pairplot(d1)\n",
    "#plt.show()"
   ]
  },
  {
   "cell_type": "code",
   "execution_count": 15,
   "metadata": {},
   "outputs": [
    {
     "data": {
      "image/png": "[encoded data removed]",
      "text/plain": [
       "<Figure size 1000x600 with 1 Axes>"
      ]
     },
     "metadata": {},
     "output_type": "display_data"
    }
   ],
   "source": [
    "import matplotlib.pyplot as plt\n",
    "district_counts = d1['District_Name'].value_counts()\n",
    "plt.figure(figsize=(10, 6))\n",
    "district_counts.plot(kind='bar')\n",
    "plt.title('Count of Arrest Person Details Records by District')\n",
    "plt.xlabel('District Name')\n",
    "plt.ylabel('Count')\n",
    "plt.xticks(rotation=90) \n",
    "plt.show()"
   ]
  },
  {
   "cell_type": "code",
   "execution_count": 16,
   "metadata": {},
   "outputs": [],
   "source": [
    "from sklearn.preprocessing import LabelEncoder\n",
    "le1=LabelEncoder()"
   ]
  },
  {
   "cell_type": "code",
   "execution_count": 17,
   "metadata": {},
   "outputs": [],
   "source": [
    "cat_col = ['District_Name', 'UnitName', 'FIRNo', 'Year', 'Month', 'ComplainantName', 'Relation', 'RelationshipName',\n",
    "           'DateOfBirth', 'Age', 'Sex', 'Nationality', 'Occupation', 'Address', 'City', 'State', 'Pincode',\n",
    "           'Caste', 'Religion', 'FIR_ID', 'Unit_ID', 'Complaint_ID']"
   ]
  },
  {
   "cell_type": "code",
   "execution_count": 18,
   "metadata": {},
   "outputs": [],
   "source": [
    "for col in cat_col:\n",
    "    if d1[col].dtype == 'object':\n",
    "        d1[col] = d1[col].astype(str)  # Convert float values to strings\n",
    "        d1[col] = le1.fit_transform(d1[col])  # Encode the column"
   ]
  },
  {
   "cell_type": "code",
   "execution_count": 19,
   "metadata": {},
   "outputs": [
    {
     "name": "stdout",
     "output_type": "stream",
     "text": [
      "<class 'pandas.core.frame.DataFrame'>\n",
      "RangeIndex: 1696392 entries, 0 to 1696391\n",
      "Data columns (total 22 columns):\n",
      " #   Column            Dtype\n",
      "---  ------            -----\n",
      " 0   District_Name     int32\n",
      " 1   UnitName          int32\n",
      " 2   FIRNo             int32\n",
      " 3   Year              int64\n",
      " 4   Month             int64\n",
      " 5   ComplainantName   int32\n",
      " 6   Relation          int32\n",
      " 7   RelationshipName  int32\n",
      " 8   DateOfBirth       int32\n",
      " 9   Age               int64\n",
      " 10  Sex               int32\n",
      " 11  Nationality       int32\n",
      " 12  Occupation        int32\n",
      " 13  Address           int32\n",
      " 14  City              int32\n",
      " 15  State             int32\n",
      " 16  Pincode           int32\n",
      " 17  Caste             int32\n",
      " 18  Religion          int32\n",
      " 19  FIR_ID            int64\n",
      " 20  Unit_ID           int64\n",
      " 21  Complaint_ID      int64\n",
      "dtypes: int32(16), int64(6)\n",
      "memory usage: 181.2 MB\n"
     ]
    }
   ],
   "source": [
    "d1.info()"
   ]
  },
  {
   "cell_type": "code",
   "execution_count": 23,
   "metadata": {},
   "outputs": [
    {
     "data": {
      "text/html": [
       "<div>\n",
       "<style scoped>\n",
       "    .dataframe tbody tr th:only-of-type {\n",
       "        vertical-align: middle;\n",
       "    }\n",
       "\n",
       "    .dataframe tbody tr th {\n",
       "        vertical-align: top;\n",
       "    }\n",
       "\n",
       "    .dataframe thead th {\n",
       "        text-align: right;\n",
       "    }\n",
       "</style>\n",
       "<table border=\"1\" class=\"dataframe\">\n",
       "  <thead>\n",
       "    <tr style=\"text-align: right;\">\n",
       "      <th></th>\n",
       "      <th>District_Name</th>\n",
       "      <th>UnitName</th>\n",
       "      <th>FIRNo</th>\n",
       "      <th>Year</th>\n",
       "      <th>Month</th>\n",
       "      <th>ComplainantName</th>\n",
       "      <th>Relation</th>\n",
       "      <th>RelationshipName</th>\n",
       "      <th>DateOfBirth</th>\n",
       "      <th>Age</th>\n",
       "      <th>...</th>\n",
       "      <th>Address</th>\n",
       "      <th>City</th>\n",
       "      <th>State</th>\n",
       "      <th>Pincode</th>\n",
       "      <th>Caste</th>\n",
       "      <th>Religion</th>\n",
       "      <th>FIR_ID</th>\n",
       "      <th>Unit_ID</th>\n",
       "      <th>Complaint_ID</th>\n",
       "      <th>Sex</th>\n",
       "    </tr>\n",
       "  </thead>\n",
       "  <tbody>\n",
       "    <tr>\n",
       "      <th>0</th>\n",
       "      <td>0</td>\n",
       "      <td>26</td>\n",
       "      <td>0</td>\n",
       "      <td>2016</td>\n",
       "      <td>1</td>\n",
       "      <td>66733</td>\n",
       "      <td>10</td>\n",
       "      <td>402647</td>\n",
       "      <td>0</td>\n",
       "      <td>40</td>\n",
       "      <td>...</td>\n",
       "      <td>419981</td>\n",
       "      <td>33</td>\n",
       "      <td>16</td>\n",
       "      <td>4614</td>\n",
       "      <td>597</td>\n",
       "      <td>7</td>\n",
       "      <td>2016000002</td>\n",
       "      <td>1245</td>\n",
       "      <td>2016000002</td>\n",
       "      <td>2</td>\n",
       "    </tr>\n",
       "    <tr>\n",
       "      <th>1</th>\n",
       "      <td>0</td>\n",
       "      <td>26</td>\n",
       "      <td>9</td>\n",
       "      <td>2016</td>\n",
       "      <td>1</td>\n",
       "      <td>451835</td>\n",
       "      <td>10</td>\n",
       "      <td>388806</td>\n",
       "      <td>0</td>\n",
       "      <td>48</td>\n",
       "      <td>...</td>\n",
       "      <td>95739</td>\n",
       "      <td>33</td>\n",
       "      <td>16</td>\n",
       "      <td>4614</td>\n",
       "      <td>919</td>\n",
       "      <td>7</td>\n",
       "      <td>2016000003</td>\n",
       "      <td>1245</td>\n",
       "      <td>2016000003</td>\n",
       "      <td>2</td>\n",
       "    </tr>\n",
       "    <tr>\n",
       "      <th>2</th>\n",
       "      <td>0</td>\n",
       "      <td>26</td>\n",
       "      <td>18</td>\n",
       "      <td>2016</td>\n",
       "      <td>1</td>\n",
       "      <td>196242</td>\n",
       "      <td>10</td>\n",
       "      <td>359061</td>\n",
       "      <td>0</td>\n",
       "      <td>59</td>\n",
       "      <td>...</td>\n",
       "      <td>95739</td>\n",
       "      <td>33</td>\n",
       "      <td>16</td>\n",
       "      <td>4614</td>\n",
       "      <td>919</td>\n",
       "      <td>7</td>\n",
       "      <td>2016000004</td>\n",
       "      <td>1245</td>\n",
       "      <td>2016000004</td>\n",
       "      <td>2</td>\n",
       "    </tr>\n",
       "    <tr>\n",
       "      <th>3</th>\n",
       "      <td>0</td>\n",
       "      <td>26</td>\n",
       "      <td>27</td>\n",
       "      <td>2016</td>\n",
       "      <td>1</td>\n",
       "      <td>296829</td>\n",
       "      <td>10</td>\n",
       "      <td>393508</td>\n",
       "      <td>0</td>\n",
       "      <td>40</td>\n",
       "      <td>...</td>\n",
       "      <td>181503</td>\n",
       "      <td>59</td>\n",
       "      <td>16</td>\n",
       "      <td>4614</td>\n",
       "      <td>153</td>\n",
       "      <td>7</td>\n",
       "      <td>2016000005</td>\n",
       "      <td>1245</td>\n",
       "      <td>2016000005</td>\n",
       "      <td>2</td>\n",
       "    </tr>\n",
       "    <tr>\n",
       "      <th>4</th>\n",
       "      <td>0</td>\n",
       "      <td>26</td>\n",
       "      <td>36</td>\n",
       "      <td>2016</td>\n",
       "      <td>1</td>\n",
       "      <td>519340</td>\n",
       "      <td>32</td>\n",
       "      <td>474372</td>\n",
       "      <td>0</td>\n",
       "      <td>0</td>\n",
       "      <td>...</td>\n",
       "      <td>95578</td>\n",
       "      <td>33</td>\n",
       "      <td>16</td>\n",
       "      <td>4614</td>\n",
       "      <td>267</td>\n",
       "      <td>7</td>\n",
       "      <td>2016000006</td>\n",
       "      <td>1245</td>\n",
       "      <td>2016000006</td>\n",
       "      <td>3</td>\n",
       "    </tr>\n",
       "  </tbody>\n",
       "</table>\n",
       "<p>5 rows × 22 columns</p>\n",
       "</div>"
      ],
      "text/plain": [
       "   District_Name  UnitName  FIRNo  Year  Month  ComplainantName  Relation  \\\n",
       "0              0        26      0  2016      1            66733        10   \n",
       "1              0        26      9  2016      1           451835        10   \n",
       "2              0        26     18  2016      1           196242        10   \n",
       "3              0        26     27  2016      1           296829        10   \n",
       "4              0        26     36  2016      1           519340        32   \n",
       "\n",
       "   RelationshipName  DateOfBirth  Age  ...  Address  City  State  Pincode  \\\n",
       "0            402647            0   40  ...   419981    33     16     4614   \n",
       "1            388806            0   48  ...    95739    33     16     4614   \n",
       "2            359061            0   59  ...    95739    33     16     4614   \n",
       "3            393508            0   40  ...   181503    59     16     4614   \n",
       "4            474372            0    0  ...    95578    33     16     4614   \n",
       "\n",
       "   Caste  Religion      FIR_ID  Unit_ID  Complaint_ID  Sex  \n",
       "0    597         7  2016000002     1245    2016000002    2  \n",
       "1    919         7  2016000003     1245    2016000003    2  \n",
       "2    919         7  2016000004     1245    2016000004    2  \n",
       "3    153         7  2016000005     1245    2016000005    2  \n",
       "4    267         7  2016000006     1245    2016000006    3  \n",
       "\n",
       "[5 rows x 22 columns]"
      ]
     },
     "execution_count": 23,
     "metadata": {},
     "output_type": "execute_result"
    }
   ],
   "source": [
    "from sklearn.model_selection import train_test_split\n",
    "from sklearn.ensemble import RandomForestClassifier\n",
    "from sklearn.linear_model import LogisticRegression\n",
    "from sklearn.svm import SVC\n",
    "from sklearn.metrics import accuracy_score\n",
    "\n",
    "# Select relevant features\n",
    "features = ['District_Name', 'UnitName', 'FIRNo', 'Year', 'Month', 'ComplainantName', 'Relation', 'RelationshipName', \n",
    "            'DateOfBirth', 'Age', 'Nationality', 'Occupation', 'Address', 'City', 'State', 'Pincode', 'Caste', \n",
    "            'Religion', 'FIR_ID', 'Unit_ID', 'Complaint_ID', 'Sex']  # Include 'Sex' in the list of features\n",
    "\n",
    "d1a = d1[features].dropna()\n",
    "\n",
    "d1a.head()\n"
   ]
  },
  {
   "cell_type": "code",
   "execution_count": 24,
   "metadata": {},
   "outputs": [
    {
     "name": "stdout",
     "output_type": "stream",
     "text": [
      "Index(['District_Name', 'UnitName', 'FIRNo', 'Year', 'Month',\n",
      "       'ComplainantName', 'Relation', 'RelationshipName', 'DateOfBirth', 'Age',\n",
      "       'Nationality', 'Occupation', 'Address', 'City', 'State', 'Pincode',\n",
      "       'Caste', 'Religion', 'FIR_ID', 'Unit_ID', 'Complaint_ID', 'Sex'],\n",
      "      dtype='object')\n"
     ]
    }
   ],
   "source": [
    "print(d1a.columns)"
   ]
  },
  {
   "cell_type": "code",
   "execution_count": 25,
   "metadata": {},
   "outputs": [
    {
     "name": "stdout",
     "output_type": "stream",
     "text": [
      "Accuracy: 0.8910866867681171\n"
     ]
    }
   ],
   "source": [
    "# Split data into features and target variable\n",
    "x1 = d1a.drop(columns=['Sex'])\n",
    "y1 = d1a['Sex']\n",
    "\n",
    "# Split data into train and test sets\n",
    "X_train1, X_test1, y_train1, y_test1 = train_test_split(x1, y1, test_size=0.2, random_state=42)\n",
    "\n",
    "# Train a random forest classifier\n",
    "clf = RandomForestClassifier()\n",
    "clf.fit(X_train1, y_train1)\n",
    "\n",
    "# Make predictions on the test set\n",
    "y_pred1 = clf.predict(X_test1)\n",
    "\n",
    "# Evaluate model performance\n",
    "accuracy1 = accuracy_score(y_test1, y_pred1)\n",
    "print(\"Accuracy:\", accuracy1)"
   ]
  },
  {
   "cell_type": "code",
   "execution_count": 27,
   "metadata": {},
   "outputs": [
    {
     "name": "stdout",
     "output_type": "stream",
     "text": [
      "Classification Report:\n",
      "              precision    recall  f1-score   support\n",
      "\n",
      "           0       0.20      0.01      0.02        88\n",
      "           1       0.88      0.83      0.85     64577\n",
      "           2       0.90      0.98      0.93    247757\n",
      "           3       0.76      0.26      0.39     26857\n",
      "\n",
      "    accuracy                           0.89    339279\n",
      "   macro avg       0.69      0.52      0.55    339279\n",
      "weighted avg       0.88      0.89      0.88    339279\n",
      "\n"
     ]
    }
   ],
   "source": [
    "from sklearn.metrics import classification_report,confusion_matrix\n",
    "# Generate classification report\n",
    "report = classification_report(y_test1, y_pred1)\n",
    "print(\"Classification Report:\")\n",
    "print(report)"
   ]
  },
  {
   "cell_type": "code",
   "execution_count": 28,
   "metadata": {},
   "outputs": [
    {
     "name": "stdout",
     "output_type": "stream",
     "text": [
      "[[     1     20     67      0]\n",
      " [     1  53409  11006    161]\n",
      " [     3   3837 241844   2073]\n",
      " [     0   3094  16690   7073]]\n"
     ]
    }
   ],
   "source": [
    "print(confusion_matrix(y_test1,y_pred1))"
   ]
  },
  {
   "cell_type": "markdown",
   "metadata": {},
   "source": [
    "Data 3 FIR_Details"
   ]
  },
  {
   "cell_type": "code",
   "execution_count": 5,
   "metadata": {},
   "outputs": [
    {
     "data": {
      "text/plain": [
       "(1694191, 41)"
      ]
     },
     "execution_count": 5,
     "metadata": {},
     "output_type": "execute_result"
    }
   ],
   "source": [
    "d3.shape"
   ]
  },
  {
   "cell_type": "code",
   "execution_count": 6,
   "metadata": {},
   "outputs": [
    {
     "data": {
      "text/html": [
       "<div>\n",
       "<style scoped>\n",
       "    .dataframe tbody tr th:only-of-type {\n",
       "        vertical-align: middle;\n",
       "    }\n",
       "\n",
       "    .dataframe tbody tr th {\n",
       "        vertical-align: top;\n",
       "    }\n",
       "\n",
       "    .dataframe thead th {\n",
       "        text-align: right;\n",
       "    }\n",
       "</style>\n",
       "<table border=\"1\" class=\"dataframe\">\n",
       "  <thead>\n",
       "    <tr style=\"text-align: right;\">\n",
       "      <th></th>\n",
       "      <th>District_Name</th>\n",
       "      <th>UnitName</th>\n",
       "      <th>FIRNo</th>\n",
       "      <th>RI</th>\n",
       "      <th>Year</th>\n",
       "      <th>Month</th>\n",
       "      <th>Offence_From_Date</th>\n",
       "      <th>Offence_To_Date</th>\n",
       "      <th>FIR_Reg_DateTime</th>\n",
       "      <th>FIR_Date</th>\n",
       "      <th>...</th>\n",
       "      <th>VICTIM COUNT</th>\n",
       "      <th>Accused Count</th>\n",
       "      <th>Arrested Male</th>\n",
       "      <th>Arrested Female</th>\n",
       "      <th>Arrested Count\\tNo.</th>\n",
       "      <th>Accused_ChargeSheeted Count</th>\n",
       "      <th>Conviction Count</th>\n",
       "      <th>FIR_ID</th>\n",
       "      <th>Unit_ID</th>\n",
       "      <th>Crime_No</th>\n",
       "    </tr>\n",
       "  </thead>\n",
       "  <tbody>\n",
       "    <tr>\n",
       "      <th>0</th>\n",
       "      <td>Bagalkot</td>\n",
       "      <td>Amengad PS</td>\n",
       "      <td>0001/2016</td>\n",
       "      <td>1</td>\n",
       "      <td>2016</td>\n",
       "      <td>1</td>\n",
       "      <td>2015-12-27 12:00:00.000</td>\n",
       "      <td>2015-12-27 12:05:00.000</td>\n",
       "      <td>2016-01-05 11:00:00.000</td>\n",
       "      <td>05/01/2016</td>\n",
       "      <td>...</td>\n",
       "      <td>0</td>\n",
       "      <td>1</td>\n",
       "      <td>1</td>\n",
       "      <td>0</td>\n",
       "      <td>1</td>\n",
       "      <td>1</td>\n",
       "      <td>0</td>\n",
       "      <td>2016000002</td>\n",
       "      <td>1245</td>\n",
       "      <td>10470124520160001</td>\n",
       "    </tr>\n",
       "    <tr>\n",
       "      <th>1</th>\n",
       "      <td>Bagalkot</td>\n",
       "      <td>Amengad PS</td>\n",
       "      <td>0002/2016</td>\n",
       "      <td>1</td>\n",
       "      <td>2016</td>\n",
       "      <td>1</td>\n",
       "      <td>2016-01-12 17:30:00.000</td>\n",
       "      <td>2016-01-12 17:35:00.000</td>\n",
       "      <td>2016-01-12 19:00:00.000</td>\n",
       "      <td>12/01/2016</td>\n",
       "      <td>...</td>\n",
       "      <td>0</td>\n",
       "      <td>5</td>\n",
       "      <td>5</td>\n",
       "      <td>0</td>\n",
       "      <td>5</td>\n",
       "      <td>5</td>\n",
       "      <td>2</td>\n",
       "      <td>2016000003</td>\n",
       "      <td>1245</td>\n",
       "      <td>10470124520160002</td>\n",
       "    </tr>\n",
       "  </tbody>\n",
       "</table>\n",
       "<p>2 rows × 41 columns</p>\n",
       "</div>"
      ],
      "text/plain": [
       "  District_Name    UnitName      FIRNo  RI  Year  Month  \\\n",
       "0      Bagalkot  Amengad PS  0001/2016   1  2016      1   \n",
       "1      Bagalkot  Amengad PS  0002/2016   1  2016      1   \n",
       "\n",
       "         Offence_From_Date          Offence_To_Date         FIR_Reg_DateTime  \\\n",
       "0  2015-12-27 12:00:00.000  2015-12-27 12:05:00.000  2016-01-05 11:00:00.000   \n",
       "1  2016-01-12 17:30:00.000  2016-01-12 17:35:00.000  2016-01-12 19:00:00.000   \n",
       "\n",
       "     FIR_Date  ... VICTIM COUNT Accused Count Arrested Male Arrested Female  \\\n",
       "0  05/01/2016  ...            0             1             1               0   \n",
       "1  12/01/2016  ...            0             5             5               0   \n",
       "\n",
       "  Arrested Count\\tNo.  Accused_ChargeSheeted Count  Conviction Count  \\\n",
       "0                   1                            1                 0   \n",
       "1                   5                            5                 2   \n",
       "\n",
       "       FIR_ID Unit_ID           Crime_No  \n",
       "0  2016000002    1245  10470124520160001  \n",
       "1  2016000003    1245  10470124520160002  \n",
       "\n",
       "[2 rows x 41 columns]"
      ]
     },
     "execution_count": 6,
     "metadata": {},
     "output_type": "execute_result"
    }
   ],
   "source": [
    "d3.head(2)"
   ]
  },
  {
   "cell_type": "code",
   "execution_count": 7,
   "metadata": {},
   "outputs": [
    {
     "name": "stdout",
     "output_type": "stream",
     "text": [
      "<class 'pandas.core.frame.DataFrame'>\n",
      "RangeIndex: 1694191 entries, 0 to 1694190\n",
      "Data columns (total 41 columns):\n",
      " #   Column                       Dtype  \n",
      "---  ------                       -----  \n",
      " 0   District_Name                object \n",
      " 1   UnitName                     object \n",
      " 2   FIRNo                        object \n",
      " 3   RI                           int64  \n",
      " 4   Year                         int64  \n",
      " 5   Month                        int64  \n",
      " 6   Offence_From_Date            object \n",
      " 7   Offence_To_Date              object \n",
      " 8   FIR_Reg_DateTime             object \n",
      " 9   FIR_Date                     object \n",
      " 10  FIR Type                     object \n",
      " 11  FIR_Stage                    object \n",
      " 12  Complaint_Mode               object \n",
      " 13  CrimeGroup_Name              object \n",
      " 14  CrimeHead_Name               object \n",
      " 15  Latitude                     float64\n",
      " 16  Longitude                    float64\n",
      " 17  ActSection                   object \n",
      " 18  IOName                       object \n",
      " 19  KGID                         object \n",
      " 20  IOAssigned_Date              object \n",
      " 21  Internal_IO                  int64  \n",
      " 22  Place of Offence             object \n",
      " 23  Distance from PS             object \n",
      " 24  Beat_Name                    object \n",
      " 25  Village_Area_Name            object \n",
      " 26  Male                         int64  \n",
      " 27  Female                       int64  \n",
      " 28  Boy                          int64  \n",
      " 29  Girl                         int64  \n",
      " 30  Age 0                        int64  \n",
      " 31  VICTIM COUNT                 int64  \n",
      " 32  Accused Count                int64  \n",
      " 33  Arrested Male                int64  \n",
      " 34  Arrested Female              int64  \n",
      " 35  Arrested Count\tNo.           int64  \n",
      " 36  Accused_ChargeSheeted Count  int64  \n",
      " 37  Conviction Count             int64  \n",
      " 38  FIR_ID                       int64  \n",
      " 39  Unit_ID                      int64  \n",
      " 40  Crime_No                     int64  \n",
      "dtypes: float64(2), int64(19), object(20)\n",
      "memory usage: 530.0+ MB\n"
     ]
    }
   ],
   "source": [
    "d3.info()"
   ]
  },
  {
   "cell_type": "code",
   "execution_count": 8,
   "metadata": {},
   "outputs": [
    {
     "data": {
      "text/plain": [
       "District_Name                        0\n",
       "UnitName                             0\n",
       "FIRNo                                0\n",
       "RI                                   0\n",
       "Year                                 0\n",
       "Month                                0\n",
       "Offence_From_Date                    0\n",
       "Offence_To_Date                      1\n",
       "FIR_Reg_DateTime                     0\n",
       "FIR_Date                             0\n",
       "FIR Type                             2\n",
       "FIR_Stage                            0\n",
       "Complaint_Mode                   18430\n",
       "CrimeGroup_Name                      0\n",
       "CrimeHead_Name                       0\n",
       "Latitude                             5\n",
       "Longitude                            5\n",
       "ActSection                          42\n",
       "IOName                             150\n",
       "KGID                               150\n",
       "IOAssigned_Date                1694182\n",
       "Internal_IO                          0\n",
       "Place of Offence                     0\n",
       "Distance from PS                   567\n",
       "Beat_Name                           64\n",
       "Village_Area_Name                  138\n",
       "Male                                 0\n",
       "Female                               0\n",
       "Boy                                  0\n",
       "Girl                                 0\n",
       "Age 0                                0\n",
       "VICTIM COUNT                         0\n",
       "Accused Count                        0\n",
       "Arrested Male                        0\n",
       "Arrested Female                      0\n",
       "Arrested Count\\tNo.                  0\n",
       "Accused_ChargeSheeted Count          0\n",
       "Conviction Count                     0\n",
       "FIR_ID                               0\n",
       "Unit_ID                              0\n",
       "Crime_No                             0\n",
       "dtype: int64"
      ]
     },
     "execution_count": 8,
     "metadata": {},
     "output_type": "execute_result"
    }
   ],
   "source": [
    "d3.isnull().sum()"
   ]
  },
  {
   "cell_type": "code",
   "execution_count": 9,
   "metadata": {},
   "outputs": [],
   "source": [
    "#New unknown category for caste\n",
    "d3['Latitude'].fillna('Unknown', inplace=True)\n",
    "d3['Longitude'].fillna('Unknown', inplace=True)\n",
    "d3['ActSection'].fillna('Unknown', inplace=True)\n",
    "d3['IOName'].fillna('Unknown', inplace=True)\n",
    "d3['KGID'].fillna('Unknown', inplace=True)\n",
    "d3['IOAssigned_Date'].fillna('Unknown', inplace=True)\n",
    "d3['Distance from PS'].fillna('Unknown', inplace=True)\n",
    "d3['Village_Area_Name'].fillna('Unknown', inplace=True)\n",
    "d3['Beat_Name'].fillna('Unknown', inplace=True)\n",
    "d3['Complaint_Mode'].fillna(d3['Complaint_Mode'].mode()[0], inplace=True)\n",
    "columns_to_drop3 = ['Offence_To_Date', 'FIR Type']\n",
    "# Check if the columns exist in the DataFrame before dropping them\n",
    "columns_to_drop3 = [col for col in columns_to_drop3 if col in d3.columns]\n",
    "# Drop the specified columns\n",
    "d3 = d3.drop(columns=columns_to_drop3)"
   ]
  },
  {
   "cell_type": "code",
   "execution_count": 10,
   "metadata": {},
   "outputs": [
    {
     "name": "stdout",
     "output_type": "stream",
     "text": [
      "<class 'pandas.core.frame.DataFrame'>\n",
      "RangeIndex: 1694191 entries, 0 to 1694190\n",
      "Data columns (total 39 columns):\n",
      " #   Column                       Dtype \n",
      "---  ------                       ----- \n",
      " 0   District_Name                object\n",
      " 1   UnitName                     object\n",
      " 2   FIRNo                        object\n",
      " 3   RI                           int64 \n",
      " 4   Year                         int64 \n",
      " 5   Month                        int64 \n",
      " 6   Offence_From_Date            object\n",
      " 7   FIR_Reg_DateTime             object\n",
      " 8   FIR_Date                     object\n",
      " 9   FIR_Stage                    object\n",
      " 10  Complaint_Mode               object\n",
      " 11  CrimeGroup_Name              object\n",
      " 12  CrimeHead_Name               object\n",
      " 13  Latitude                     object\n",
      " 14  Longitude                    object\n",
      " 15  ActSection                   object\n",
      " 16  IOName                       object\n",
      " 17  KGID                         object\n",
      " 18  IOAssigned_Date              object\n",
      " 19  Internal_IO                  int64 \n",
      " 20  Place of Offence             object\n",
      " 21  Distance from PS             object\n",
      " 22  Beat_Name                    object\n",
      " 23  Village_Area_Name            object\n",
      " 24  Male                         int64 \n",
      " 25  Female                       int64 \n",
      " 26  Boy                          int64 \n",
      " 27  Girl                         int64 \n",
      " 28  Age 0                        int64 \n",
      " 29  VICTIM COUNT                 int64 \n",
      " 30  Accused Count                int64 \n",
      " 31  Arrested Male                int64 \n",
      " 32  Arrested Female              int64 \n",
      " 33  Arrested Count\tNo.           int64 \n",
      " 34  Accused_ChargeSheeted Count  int64 \n",
      " 35  Conviction Count             int64 \n",
      " 36  FIR_ID                       int64 \n",
      " 37  Unit_ID                      int64 \n",
      " 38  Crime_No                     int64 \n",
      "dtypes: int64(19), object(20)\n",
      "memory usage: 504.1+ MB\n"
     ]
    }
   ],
   "source": [
    "d3.info()"
   ]
  },
  {
   "cell_type": "code",
   "execution_count": 11,
   "metadata": {},
   "outputs": [
    {
     "data": {
      "text/plain": [
       "(1694191, 39)"
      ]
     },
     "execution_count": 11,
     "metadata": {},
     "output_type": "execute_result"
    }
   ],
   "source": [
    "d3.shape"
   ]
  },
  {
   "cell_type": "code",
   "execution_count": 19,
   "metadata": {},
   "outputs": [
    {
     "data": {
      "image/png": "[encoded data removed]",
      "text/plain": [
       "<Figure size 1200x600 with 1 Axes>"
      ]
     },
     "metadata": {},
     "output_type": "display_data"
    }
   ],
   "source": [
    "import matplotlib.pyplot as plt\n",
    "\n",
    "# Sample 10% of the data\n",
    "sampled_data3 = d3.sample(frac=0.1, random_state=42)\n",
    "\n",
    "# Convert 'FIR_Reg_DateTime' to datetime format if it's not already\n",
    "sampled_data3['FIR_Reg_DateTime'] = pd.to_datetime(sampled_data3['FIR_Reg_DateTime'])\n",
    "\n",
    "# Sort the DataFrame by date for plotting\n",
    "sampled_data3.sort_values(by='FIR_Reg_DateTime', inplace=True)\n",
    "\n",
    "# Plot 'FIR_Reg_DateTime' over time\n",
    "plt.figure(figsize=(12, 6))\n",
    "plt.plot(sampled_data3['FIR_Reg_DateTime'], sampled_data3['FIRNo'], marker='o', linestyle='-')\n",
    "plt.title('FIRNo over time (Sampled 10%)')\n",
    "plt.xlabel('Date')\n",
    "plt.ylabel('FIRNo')\n",
    "plt.xticks(rotation=90)\n",
    "plt.yticks(rotation=40)\n",
    "\n",
    "plt.show()\n"
   ]
  },
  {
   "cell_type": "code",
   "execution_count": 18,
   "metadata": {},
   "outputs": [
    {
     "data": {
      "image/png": "[encoded data removed]",
      "text/plain": [
       "<Figure size 1200x600 with 1 Axes>"
      ]
     },
     "metadata": {},
     "output_type": "display_data"
    }
   ],
   "source": [
    "d3['Offence_From_Date'] = pd.to_datetime(d3['Offence_From_Date'])\n",
    "# Sort the DataFrame by date for plotting\n",
    "d3.sort_values(by='FIR_Reg_DateTime', inplace=True)\n",
    "# Plot 'Offence_From_Date' over time\n",
    "plt.figure(figsize=(12, 6))\n",
    "plt.plot(d3['Offence_From_Date'], d3['FIRNo'], marker='o', linestyle='-')\n",
    "plt.title('FIRNo over time (Offence_From_Date)')\n",
    "plt.xlabel('Date')\n",
    "plt.ylabel('FIRNo')\n",
    "plt.xticks(rotation=90)\n",
    "plt.yticks(rotation=40)\n",
    "plt.show()"
   ]
  },
  {
   "cell_type": "code",
   "execution_count": 13,
   "metadata": {},
   "outputs": [
    {
     "name": "stdout",
     "output_type": "stream",
     "text": [
      "<class 'pandas.core.frame.DataFrame'>\n",
      "RangeIndex: 1694191 entries, 0 to 1694190\n",
      "Data columns (total 39 columns):\n",
      " #   Column                       Dtype\n",
      "---  ------                       -----\n",
      " 0   District_Name                int32\n",
      " 1   UnitName                     int32\n",
      " 2   FIRNo                        int32\n",
      " 3   RI                           int64\n",
      " 4   Year                         int64\n",
      " 5   Month                        int64\n",
      " 6   Offence_From_Date            int32\n",
      " 7   FIR_Reg_DateTime             int32\n",
      " 8   FIR_Date                     int32\n",
      " 9   FIR_Stage                    int32\n",
      " 10  Complaint_Mode               int32\n",
      " 11  CrimeGroup_Name              int32\n",
      " 12  CrimeHead_Name               int32\n",
      " 13  Latitude                     int32\n",
      " 14  Longitude                    int32\n",
      " 15  ActSection                   int32\n",
      " 16  IOName                       int32\n",
      " 17  KGID                         int32\n",
      " 18  IOAssigned_Date              int32\n",
      " 19  Internal_IO                  int64\n",
      " 20  Place of Offence             int32\n",
      " 21  Distance from PS             int32\n",
      " 22  Beat_Name                    int32\n",
      " 23  Village_Area_Name            int32\n",
      " 24  Male                         int64\n",
      " 25  Female                       int64\n",
      " 26  Boy                          int64\n",
      " 27  Girl                         int64\n",
      " 28  Age 0                        int64\n",
      " 29  VICTIM COUNT                 int64\n",
      " 30  Accused Count                int64\n",
      " 31  Arrested Male                int64\n",
      " 32  Arrested Female              int64\n",
      " 33  Arrested Count\tNo.           int64\n",
      " 34  Accused_ChargeSheeted Count  int64\n",
      " 35  Conviction Count             int64\n",
      " 36  FIR_ID                       int64\n",
      " 37  Unit_ID                      int64\n",
      " 38  Crime_No                     int64\n",
      "dtypes: int32(20), int64(19)\n",
      "memory usage: 374.8 MB\n"
     ]
    }
   ],
   "source": [
    "from sklearn.preprocessing import LabelEncoder\n",
    "le3=LabelEncoder()\n",
    "cat_col3 = ['District_Name', 'UnitName', 'FIRNo', 'Offence_From_Date', 'FIR_Reg_DateTime', 'FIR_Date', 'FIR_Stage', 'Complaint_Mode',\n",
    "           'CrimeGroup_Name', 'CrimeHead_Name', 'Latitude', 'Longitude', 'ActSection', 'IOName', 'KGID', 'IOAssigned_Date',\n",
    "           'Internal_IO','Place of Offence','Distance from PS','Beat_Name','Village_Area_Name','FIR_ID','Unit_ID','Crime_No','Conviction Count']\n",
    "for col in cat_col3:\n",
    "    if d3[col].dtype == 'object':\n",
    "        d3[col] = d3[col].astype(str)  # Convert float values to strings\n",
    "        d3[col] = le3.fit_transform(d3[col])  # Encode the column\n",
    "d3.info()"
   ]
  },
  {
   "cell_type": "code",
   "execution_count": 36,
   "metadata": {},
   "outputs": [
    {
     "name": "stdout",
     "output_type": "stream",
     "text": [
      "Accuracy: 0.9552973536104168\n"
     ]
    }
   ],
   "source": [
    "from sklearn.model_selection import train_test_split\n",
    "from sklearn.ensemble import RandomForestClassifier\n",
    "from sklearn.metrics import accuracy_score\n",
    "\n",
    "\n",
    "features3 = ['District_Name', 'UnitName', 'FIRNo', 'Offence_From_Date', 'FIR_Reg_DateTime', 'FIR_Date', 'FIR_Stage', 'Complaint_Mode',\n",
    "            'CrimeGroup_Name', 'CrimeHead_Name', 'Latitude', 'Longitude', 'ActSection', 'IOName', 'KGID', 'IOAssigned_Date',\n",
    "            'Internal_IO','Place of Offence','Distance from PS','Beat_Name','Village_Area_Name','FIR_ID','Unit_ID','Crime_No','Conviction Count']\n",
    "x3 = d3[features3].drop(columns=['CrimeGroup_Name'])\n",
    "y3 = d3['CrimeGroup_Name']\n",
    "\n",
    "\n",
    "X_train3, X_test3, y_train3, y_test3 = train_test_split(x3, y3, test_size=0.2, random_state=42)\n",
    "\n",
    "clf3 = RandomForestClassifier()\n",
    "\n",
    "clf3.fit(X_train3, y_train3)\n",
    "\n",
    "y_pred3 = clf3.predict(X_test3)\n",
    "\n",
    "accuracy3 = accuracy_score(y_test3, y_pred3)\n",
    "print(\"Accuracy:\", accuracy3)\n"
   ]
  },
  {
   "cell_type": "code",
   "execution_count": 37,
   "metadata": {},
   "outputs": [
    {
     "name": "stderr",
     "output_type": "stream",
     "text": [
      "c:\\Users\\SEC\\AppData\\Local\\Programs\\Python\\Python39\\lib\\site-packages\\sklearn\\metrics\\_classification.py:1344: UndefinedMetricWarning: Precision and F-score are ill-defined and being set to 0.0 in labels with no predicted samples. Use `zero_division` parameter to control this behavior.\n",
      "  _warn_prf(average, modifier, msg_start, len(result))\n"
     ]
    },
    {
     "name": "stdout",
     "output_type": "stream",
     "text": [
      "Classification Report:\n",
      "              precision    recall  f1-score   support\n",
      "\n",
      "           0       1.00      0.99      0.99     15860\n",
      "           1       0.00      0.00      0.00         3\n",
      "           2       0.86      0.43      0.58       237\n",
      "           3       0.79      0.54      0.64       241\n",
      "           4       1.00      0.38      0.55        29\n",
      "           5       0.94      0.99      0.96       636\n",
      "           6       0.93      0.65      0.77       372\n",
      "           7       1.00      0.50      0.67        16\n",
      "           8       0.89      0.73      0.80       325\n",
      "           9       0.82      0.60      0.69       526\n",
      "          10       0.00      0.00      0.00        53\n",
      "          11       1.00      0.04      0.08        24\n",
      "          12       0.86      0.11      0.19        57\n",
      "          13       0.75      0.84      0.79      4155\n",
      "          14       0.90      0.63      0.74       286\n",
      "          15       0.93      0.54      0.68        24\n",
      "          16       0.93      0.82      0.87      1689\n",
      "          17       0.93      0.98      0.95      7290\n",
      "          18       0.00      0.00      0.00         1\n",
      "          19       0.98      0.99      0.99     25793\n",
      "          20       0.97      1.00      0.98      9765\n",
      "          21       0.92      0.72      0.81       427\n",
      "          23       1.00      0.17      0.29         6\n",
      "          24       0.93      0.37      0.53       374\n",
      "          25       0.93      0.83      0.88       750\n",
      "          26       0.92      0.87      0.90       270\n",
      "          27       0.97      0.96      0.96       697\n",
      "          28       1.00      0.59      0.74        58\n",
      "          29       0.93      0.96      0.94      2901\n",
      "          30       0.95      0.91      0.93       716\n",
      "          31       0.00      0.00      0.00        56\n",
      "          32       0.88      0.94      0.91      3645\n",
      "          33       1.00      0.12      0.21        26\n",
      "          34       0.79      0.78      0.79      2786\n",
      "          35       0.87      0.92      0.90      3909\n",
      "          36       1.00      0.19      0.32       135\n",
      "          37       0.84      0.74      0.78        96\n",
      "          38       1.00      1.00      1.00     28206\n",
      "          39       0.95      0.74      0.83      1015\n",
      "          40       0.83      0.56      0.67       595\n",
      "          41       0.00      0.00      0.00        19\n",
      "          42       1.00      0.06      0.11        17\n",
      "          44       0.00      0.00      0.00         5\n",
      "          45       0.94      0.73      0.82       302\n",
      "          46       0.94      0.88      0.91       576\n",
      "          47       0.86      0.79      0.82       550\n",
      "          48       0.71      0.18      0.28        57\n",
      "          49       0.94      0.57      0.71       203\n",
      "          50       0.80      0.77      0.78       183\n",
      "          52       0.00      0.00      0.00        39\n",
      "          53       0.93      0.74      0.82        91\n",
      "          54       1.00      0.21      0.34        29\n",
      "          55       0.84      0.72      0.78       717\n",
      "          56       0.99      0.99      0.99       345\n",
      "          57       0.00      0.00      0.00         1\n",
      "          58       1.00      0.24      0.39        25\n",
      "          60       0.95      0.96      0.95       381\n",
      "          61       0.00      0.00      0.00        14\n",
      "          62       1.00      0.03      0.06        33\n",
      "          63       0.67      0.10      0.17        20\n",
      "          64       0.00      0.00      0.00         1\n",
      "          65       0.53      0.05      0.10       183\n",
      "          66       0.99      1.00      1.00     21661\n",
      "          67       0.97      0.94      0.95      4752\n",
      "          68       0.98      0.99      0.98     18305\n",
      "          69       0.95      0.69      0.80       679\n",
      "          70       1.00      1.00      1.00     25286\n",
      "          71       0.79      0.97      0.87      8603\n",
      "          72       0.93      0.91      0.92     16688\n",
      "          73       0.95      0.98      0.97     49228\n",
      "          74       0.87      0.75      0.81      2238\n",
      "          75       0.99      0.99      0.99      5668\n",
      "          77       0.97      0.83      0.89      4729\n",
      "          78       0.00      0.00      0.00        15\n",
      "          79       0.92      0.68      0.78      1993\n",
      "          81       1.00      0.24      0.38        21\n",
      "          82       1.00      0.17      0.29       100\n",
      "          83       1.00      0.14      0.24        65\n",
      "          84       0.50      0.10      0.17        10\n",
      "          85       0.89      0.78      0.83        41\n",
      "          86       0.92      0.89      0.91      4013\n",
      "          87       1.00      0.29      0.45        31\n",
      "          88       1.00      0.25      0.40        20\n",
      "          89       0.00      0.00      0.00         1\n",
      "          90       0.00      0.00      0.00         6\n",
      "          91       1.00      0.36      0.53        97\n",
      "          92       0.99      0.99      0.99      8626\n",
      "          93       1.00      0.73      0.84        11\n",
      "          94       0.91      0.59      0.72       846\n",
      "          95       0.00      0.00      0.00         2\n",
      "          96       0.86      0.90      0.88      7438\n",
      "          97       0.92      0.92      0.92      3141\n",
      "          98       0.97      0.97      0.97      2797\n",
      "          99       1.00      0.20      0.33         5\n",
      "         100       1.00      0.09      0.17        11\n",
      "         101       0.92      0.77      0.84      1284\n",
      "         102       0.97      0.99      0.98     31884\n",
      "         103       0.00      0.00      0.00         3\n",
      "         104       0.00      0.00      0.00         1\n",
      "         105       0.00      0.00      0.00        12\n",
      "         106       0.84      0.28      0.42       687\n",
      "\n",
      "    accuracy                           0.96    338839\n",
      "   macro avg       0.77      0.53      0.58    338839\n",
      "weighted avg       0.96      0.96      0.95    338839\n",
      "\n"
     ]
    },
    {
     "name": "stderr",
     "output_type": "stream",
     "text": [
      "c:\\Users\\SEC\\AppData\\Local\\Programs\\Python\\Python39\\lib\\site-packages\\sklearn\\metrics\\_classification.py:1344: UndefinedMetricWarning: Precision and F-score are ill-defined and being set to 0.0 in labels with no predicted samples. Use `zero_division` parameter to control this behavior.\n",
      "  _warn_prf(average, modifier, msg_start, len(result))\n",
      "c:\\Users\\SEC\\AppData\\Local\\Programs\\Python\\Python39\\lib\\site-packages\\sklearn\\metrics\\_classification.py:1344: UndefinedMetricWarning: Precision and F-score are ill-defined and being set to 0.0 in labels with no predicted samples. Use `zero_division` parameter to control this behavior.\n",
      "  _warn_prf(average, modifier, msg_start, len(result))\n"
     ]
    }
   ],
   "source": [
    "from sklearn.metrics import classification_report,confusion_matrix\n",
    "# Generate classification report\n",
    "report3 = classification_report(y_test3, y_pred3)\n",
    "print(\"Classification Report:\")\n",
    "print(report3)"
   ]
  },
  {
   "cell_type": "code",
   "execution_count": 38,
   "metadata": {},
   "outputs": [
    {
     "name": "stdout",
     "output_type": "stream",
     "text": [
      "[[15717     0     0 ...     0     0     0]\n",
      " [    0     0     1 ...     0     0     0]\n",
      " [    0     0   103 ...     0     0     0]\n",
      " ...\n",
      " [    0     0     0 ...     0     0     0]\n",
      " [    0     0     0 ...     0     0     0]\n",
      " [    0     0     1 ...     0     0   195]]\n"
     ]
    }
   ],
   "source": [
    "print(confusion_matrix(y_test3,y_pred3))"
   ]
  },
  {
   "cell_type": "markdown",
   "metadata": {},
   "source": [
    "Data 4"
   ]
  },
  {
   "cell_type": "code",
   "execution_count": 5,
   "metadata": {},
   "outputs": [
    {
     "data": {
      "text/html": [
       "<div>\n",
       "<style scoped>\n",
       "    .dataframe tbody tr th:only-of-type {\n",
       "        vertical-align: middle;\n",
       "    }\n",
       "\n",
       "    .dataframe tbody tr th {\n",
       "        vertical-align: top;\n",
       "    }\n",
       "\n",
       "    .dataframe thead th {\n",
       "        text-align: right;\n",
       "    }\n",
       "</style>\n",
       "<table border=\"1\" class=\"dataframe\">\n",
       "  <thead>\n",
       "    <tr style=\"text-align: right;\">\n",
       "      <th></th>\n",
       "      <th>District_Name</th>\n",
       "      <th>UnitName</th>\n",
       "      <th>FIRNo</th>\n",
       "      <th>Year</th>\n",
       "      <th>Month</th>\n",
       "      <th>Name</th>\n",
       "      <th>age</th>\n",
       "      <th>Caste</th>\n",
       "      <th>Profession</th>\n",
       "      <th>Sex</th>\n",
       "      <th>...</th>\n",
       "      <th>PermanentAddress</th>\n",
       "      <th>PermanentCity</th>\n",
       "      <th>PermanentState</th>\n",
       "      <th>Nationality_Name</th>\n",
       "      <th>DOB</th>\n",
       "      <th>Person_No</th>\n",
       "      <th>Crime_No</th>\n",
       "      <th>Arr_ID</th>\n",
       "      <th>Charge_Sheeted</th>\n",
       "      <th>Charge_Sheet_Number</th>\n",
       "    </tr>\n",
       "  </thead>\n",
       "  <tbody>\n",
       "    <tr>\n",
       "      <th>0</th>\n",
       "      <td>Bagalkot</td>\n",
       "      <td>Amengad PS</td>\n",
       "      <td>0001/2016</td>\n",
       "      <td>2016</td>\n",
       "      <td>1</td>\n",
       "      <td>YAMxxxxxDAR</td>\n",
       "      <td>26.0</td>\n",
       "      <td>VADDA</td>\n",
       "      <td>Labourer</td>\n",
       "      <td>MALE</td>\n",
       "      <td>...</td>\n",
       "      <td>HUVINAHALLI,TQ-HUNAGUND</td>\n",
       "      <td>Bagalkot</td>\n",
       "      <td>Karnataka</td>\n",
       "      <td>India</td>\n",
       "      <td>NaN</td>\n",
       "      <td>A1</td>\n",
       "      <td>10470124520160001</td>\n",
       "      <td>2016000031</td>\n",
       "      <td>1</td>\n",
       "      <td>2.016000e+09</td>\n",
       "    </tr>\n",
       "    <tr>\n",
       "      <th>1</th>\n",
       "      <td>Bagalkot</td>\n",
       "      <td>Amengad PS</td>\n",
       "      <td>0002/2016</td>\n",
       "      <td>2016</td>\n",
       "      <td>1</td>\n",
       "      <td>HANxxxxxALI</td>\n",
       "      <td>26.0</td>\n",
       "      <td>GANIGA</td>\n",
       "      <td>Farmer</td>\n",
       "      <td>MALE</td>\n",
       "      <td>...</td>\n",
       "      <td>RAKKASAGI,TQ-HUNAGUND</td>\n",
       "      <td>Bagalkot</td>\n",
       "      <td>Karnataka</td>\n",
       "      <td>India</td>\n",
       "      <td>NaN</td>\n",
       "      <td>A1</td>\n",
       "      <td>10470124520160002</td>\n",
       "      <td>2016000032</td>\n",
       "      <td>1</td>\n",
       "      <td>2.016000e+09</td>\n",
       "    </tr>\n",
       "  </tbody>\n",
       "</table>\n",
       "<p>2 rows × 23 columns</p>\n",
       "</div>"
      ],
      "text/plain": [
       "  District_Name    UnitName      FIRNo  Year  Month         Name   age  \\\n",
       "0      Bagalkot  Amengad PS  0001/2016  2016      1  YAMxxxxxDAR  26.0   \n",
       "1      Bagalkot  Amengad PS  0002/2016  2016      1  HANxxxxxALI  26.0   \n",
       "\n",
       "    Caste Profession   Sex  ...         PermanentAddress PermanentCity  \\\n",
       "0   VADDA  Labourer   MALE  ...  HUVINAHALLI,TQ-HUNAGUND      Bagalkot   \n",
       "1  GANIGA    Farmer   MALE  ...    RAKKASAGI,TQ-HUNAGUND      Bagalkot   \n",
       "\n",
       "  PermanentState Nationality_Name  DOB Person_No           Crime_No  \\\n",
       "0      Karnataka            India  NaN        A1  10470124520160001   \n",
       "1      Karnataka            India  NaN        A1  10470124520160002   \n",
       "\n",
       "       Arr_ID Charge_Sheeted  Charge_Sheet_Number  \n",
       "0  2016000031              1         2.016000e+09  \n",
       "1  2016000032              1         2.016000e+09  \n",
       "\n",
       "[2 rows x 23 columns]"
      ]
     },
     "execution_count": 5,
     "metadata": {},
     "output_type": "execute_result"
    }
   ],
   "source": [
    "d4.head(2)"
   ]
  },
  {
   "cell_type": "code",
   "execution_count": 6,
   "metadata": {},
   "outputs": [
    {
     "data": {
      "text/plain": [
       "(1527375, 23)"
      ]
     },
     "execution_count": 6,
     "metadata": {},
     "output_type": "execute_result"
    }
   ],
   "source": [
    "d4.shape"
   ]
  },
  {
   "cell_type": "code",
   "execution_count": 7,
   "metadata": {},
   "outputs": [
    {
     "data": {
      "text/plain": [
       "District_Name                0\n",
       "UnitName                     0\n",
       "FIRNo                        0\n",
       "Year                         0\n",
       "Month                        0\n",
       "Name                         1\n",
       "age                         74\n",
       "Caste                   128390\n",
       "Profession              110921\n",
       "Sex                        378\n",
       "PresentAddress               0\n",
       "PresentCity               1161\n",
       "PresentState               420\n",
       "PermanentAddress             0\n",
       "PermanentCity             1161\n",
       "PermanentState             420\n",
       "Nationality_Name          1490\n",
       "DOB                    1498680\n",
       "Person_No                  282\n",
       "Crime_No                     0\n",
       "Arr_ID                       0\n",
       "Charge_Sheeted               0\n",
       "Charge_Sheet_Number     135167\n",
       "dtype: int64"
      ]
     },
     "execution_count": 7,
     "metadata": {},
     "output_type": "execute_result"
    }
   ],
   "source": [
    "d4.isnull().sum()"
   ]
  },
  {
   "cell_type": "code",
   "execution_count": 8,
   "metadata": {},
   "outputs": [
    {
     "name": "stdout",
     "output_type": "stream",
     "text": [
      "<class 'pandas.core.frame.DataFrame'>\n",
      "RangeIndex: 1527375 entries, 0 to 1527374\n",
      "Data columns (total 23 columns):\n",
      " #   Column               Non-Null Count    Dtype  \n",
      "---  ------               --------------    -----  \n",
      " 0   District_Name        1527375 non-null  object \n",
      " 1   UnitName             1527375 non-null  object \n",
      " 2   FIRNo                1527375 non-null  object \n",
      " 3   Year                 1527375 non-null  int64  \n",
      " 4   Month                1527375 non-null  int64  \n",
      " 5   Name                 1527374 non-null  object \n",
      " 6   age                  1527301 non-null  float64\n",
      " 7   Caste                1398985 non-null  object \n",
      " 8   Profession           1416454 non-null  object \n",
      " 9   Sex                  1526997 non-null  object \n",
      " 10  PresentAddress       1527375 non-null  object \n",
      " 11  PresentCity          1526214 non-null  object \n",
      " 12  PresentState         1526955 non-null  object \n",
      " 13  PermanentAddress     1527375 non-null  object \n",
      " 14  PermanentCity        1526214 non-null  object \n",
      " 15  PermanentState       1526955 non-null  object \n",
      " 16  Nationality_Name     1525885 non-null  object \n",
      " 17  DOB                  28695 non-null    object \n",
      " 18  Person_No            1527093 non-null  object \n",
      " 19  Crime_No             1527375 non-null  int64  \n",
      " 20  Arr_ID               1527375 non-null  int64  \n",
      " 21  Charge_Sheeted       1527375 non-null  int64  \n",
      " 22  Charge_Sheet_Number  1392208 non-null  float64\n",
      "dtypes: float64(2), int64(5), object(16)\n",
      "memory usage: 268.0+ MB\n"
     ]
    }
   ],
   "source": [
    "d4.info()"
   ]
  },
  {
   "cell_type": "code",
   "execution_count": 9,
   "metadata": {},
   "outputs": [],
   "source": [
    "# Columns to check for missing values\n",
    "columns_to_check4 = [\"Name\", \"PresentCity\", \"PermanentCity\", \"PermanentState\"]\n",
    "\n",
    "# Drop rows with missing values in specified columns\n",
    "d4.dropna(subset=columns_to_check4, inplace=True)\n",
    "\n",
    "# Fill missing values\n",
    "d4['Sex'].fillna(d4['Sex'].mode()[0], inplace=True)\n",
    "d4['Nationality_Name'].fillna(d4['Nationality_Name'].mode()[0], inplace=True)\n",
    "d4['Caste'].fillna('Unknown', inplace=True)\n",
    "d4['Profession'].fillna('Unknown', inplace=True)\n",
    "d4['DOB'].fillna('Unknown', inplace=True)\n",
    "\n",
    "# Convert 'Person_No' column to numeric (if it's not already numeric)\n",
    "d4['Person_No'] = pd.to_numeric(d4['Person_No'], errors='coerce')\n",
    "d4['Person_No'].fillna(d4['Person_No'].mean(), inplace=True)\n",
    "d4['Charge_Sheet_Number'].fillna(d4['Charge_Sheet_Number'].mean(), inplace=True)"
   ]
  },
  {
   "cell_type": "code",
   "execution_count": 10,
   "metadata": {},
   "outputs": [
    {
     "data": {
      "text/plain": [
       "District_Name          0\n",
       "UnitName               0\n",
       "FIRNo                  0\n",
       "Year                   0\n",
       "Month                  0\n",
       "Name                   0\n",
       "age                    0\n",
       "Caste                  0\n",
       "Profession             0\n",
       "Sex                    0\n",
       "PresentAddress         0\n",
       "PresentCity            0\n",
       "PresentState           0\n",
       "PermanentAddress       0\n",
       "PermanentCity          0\n",
       "PermanentState         0\n",
       "Nationality_Name       0\n",
       "DOB                    0\n",
       "Person_No              0\n",
       "Crime_No               0\n",
       "Arr_ID                 0\n",
       "Charge_Sheeted         0\n",
       "Charge_Sheet_Number    0\n",
       "dtype: int64"
      ]
     },
     "execution_count": 10,
     "metadata": {},
     "output_type": "execute_result"
    }
   ],
   "source": [
    "d4.isnull().sum()"
   ]
  },
  {
   "cell_type": "code",
   "execution_count": 11,
   "metadata": {},
   "outputs": [
    {
     "name": "stdout",
     "output_type": "stream",
     "text": [
      "<class 'pandas.core.frame.DataFrame'>\n",
      "Int64Index: 1526209 entries, 0 to 1527374\n",
      "Data columns (total 23 columns):\n",
      " #   Column               Non-Null Count    Dtype  \n",
      "---  ------               --------------    -----  \n",
      " 0   District_Name        1526209 non-null  object \n",
      " 1   UnitName             1526209 non-null  object \n",
      " 2   FIRNo                1526209 non-null  object \n",
      " 3   Year                 1526209 non-null  int64  \n",
      " 4   Month                1526209 non-null  int64  \n",
      " 5   Name                 1526209 non-null  object \n",
      " 6   age                  1526209 non-null  float64\n",
      " 7   Caste                1526209 non-null  object \n",
      " 8   Profession           1526209 non-null  object \n",
      " 9   Sex                  1526209 non-null  object \n",
      " 10  PresentAddress       1526209 non-null  object \n",
      " 11  PresentCity          1526209 non-null  object \n",
      " 12  PresentState         1526209 non-null  object \n",
      " 13  PermanentAddress     1526209 non-null  object \n",
      " 14  PermanentCity        1526209 non-null  object \n",
      " 15  PermanentState       1526209 non-null  object \n",
      " 16  Nationality_Name     1526209 non-null  object \n",
      " 17  DOB                  1526209 non-null  object \n",
      " 18  Person_No            1526209 non-null  float64\n",
      " 19  Crime_No             1526209 non-null  int64  \n",
      " 20  Arr_ID               1526209 non-null  int64  \n",
      " 21  Charge_Sheeted       1526209 non-null  int64  \n",
      " 22  Charge_Sheet_Number  1526209 non-null  float64\n",
      "dtypes: float64(3), int64(5), object(15)\n",
      "memory usage: 279.5+ MB\n"
     ]
    }
   ],
   "source": [
    "d4.info()"
   ]
  },
  {
   "cell_type": "code",
   "execution_count": 12,
   "metadata": {},
   "outputs": [],
   "source": [
    "# Label encode categorical columns\n",
    "from sklearn.preprocessing import LabelEncoder\n",
    "le4 = LabelEncoder()\n",
    "cat_cols4 = ['District_Name', 'UnitName', 'FIRNo', 'Name', 'Caste', 'Profession', 'Sex', 'PresentAddress',\n",
    "            'PresentCity', 'PresentState', 'PermanentAddress', 'PermanentCity', 'PermanentState', 'Nationality_Name', 'DOB']\n",
    "for col in cat_cols4:\n",
    "    if d4[col].dtype == 'object':\n",
    "        d4[col] = le4.fit_transform(d4[col])"
   ]
  },
  {
   "cell_type": "code",
   "execution_count": 13,
   "metadata": {},
   "outputs": [
    {
     "name": "stdout",
     "output_type": "stream",
     "text": [
      "<class 'pandas.core.frame.DataFrame'>\n",
      "Int64Index: 1526209 entries, 0 to 1527374\n",
      "Data columns (total 23 columns):\n",
      " #   Column               Non-Null Count    Dtype  \n",
      "---  ------               --------------    -----  \n",
      " 0   District_Name        1526209 non-null  int32  \n",
      " 1   UnitName             1526209 non-null  int32  \n",
      " 2   FIRNo                1526209 non-null  int32  \n",
      " 3   Year                 1526209 non-null  int64  \n",
      " 4   Month                1526209 non-null  int64  \n",
      " 5   Name                 1526209 non-null  int32  \n",
      " 6   age                  1526209 non-null  float64\n",
      " 7   Caste                1526209 non-null  int32  \n",
      " 8   Profession           1526209 non-null  int32  \n",
      " 9   Sex                  1526209 non-null  int32  \n",
      " 10  PresentAddress       1526209 non-null  int32  \n",
      " 11  PresentCity          1526209 non-null  int32  \n",
      " 12  PresentState         1526209 non-null  int32  \n",
      " 13  PermanentAddress     1526209 non-null  int32  \n",
      " 14  PermanentCity        1526209 non-null  int32  \n",
      " 15  PermanentState       1526209 non-null  int32  \n",
      " 16  Nationality_Name     1526209 non-null  int32  \n",
      " 17  DOB                  1526209 non-null  int32  \n",
      " 18  Person_No            1526209 non-null  float64\n",
      " 19  Crime_No             1526209 non-null  int64  \n",
      " 20  Arr_ID               1526209 non-null  int64  \n",
      " 21  Charge_Sheeted       1526209 non-null  int64  \n",
      " 22  Charge_Sheet_Number  1526209 non-null  float64\n",
      "dtypes: float64(3), int32(15), int64(5)\n",
      "memory usage: 192.1 MB\n"
     ]
    }
   ],
   "source": [
    "d4.info()"
   ]
  },
  {
   "cell_type": "code",
   "execution_count": 14,
   "metadata": {},
   "outputs": [
    {
     "name": "stdout",
     "output_type": "stream",
     "text": [
      "Accuracy: 0.9999967239108641\n"
     ]
    }
   ],
   "source": [
    "from sklearn.model_selection import train_test_split\n",
    "from sklearn.ensemble import RandomForestClassifier\n",
    "from sklearn.metrics import accuracy_score\n",
    "# Select relevant features\n",
    "features4 = ['District_Name', 'UnitName', 'FIRNo', 'Year', 'Month', 'Name', 'age',\n",
    "            'Caste', 'Profession', 'Sex', 'PresentAddress', 'PresentCity',\n",
    "            'PresentState', 'PermanentAddress', 'PermanentCity', 'PermanentState',\n",
    "            'Nationality_Name', 'DOB', 'Person_No', 'Crime_No', 'Arr_ID',\n",
    "            'Charge_Sheet_Number']\n",
    "\n",
    "# Drop rows with missing values in selected features\n",
    "d4 = d4.dropna(subset=features4)\n",
    "\n",
    "# Split data into features and target variable\n",
    "x4 = d4[features4]\n",
    "y4 = d4['Charge_Sheeted']\n",
    "\n",
    "# Split data into train and test sets\n",
    "X_train4, X_test4, y_train4, y_test4 = train_test_split(x4, y4, test_size=0.2, random_state=42)\n",
    "\n",
    "# Train a random forest classifier\n",
    "clf4 = RandomForestClassifier()\n",
    "clf4.fit(X_train4, y_train4)\n",
    "\n",
    "# Make predictions on the test set\n",
    "y_pred4 = clf4.predict(X_test4)\n",
    "\n",
    "# Evaluate model performance\n",
    "accuracy4 = accuracy_score(y_test4, y_pred4)\n",
    "print(\"Accuracy:\", accuracy4)"
   ]
  },
  {
   "cell_type": "code",
   "execution_count": 15,
   "metadata": {},
   "outputs": [
    {
     "name": "stdout",
     "output_type": "stream",
     "text": [
      "Classification Report:\n",
      "              precision    recall  f1-score   support\n",
      "\n",
      "           0       1.00      1.00      1.00     27056\n",
      "           1       1.00      1.00      1.00    278186\n",
      "\n",
      "    accuracy                           1.00    305242\n",
      "   macro avg       1.00      1.00      1.00    305242\n",
      "weighted avg       1.00      1.00      1.00    305242\n",
      "\n"
     ]
    }
   ],
   "source": [
    "from sklearn.metrics import classification_report,confusion_matrix\n",
    "# Generate classification report\n",
    "report4 = classification_report(y_test4, y_pred4)\n",
    "print(\"Classification Report:\")\n",
    "print(report4)"
   ]
  },
  {
   "cell_type": "markdown",
   "metadata": {},
   "source": [
    "WEB INTEGRATE"
   ]
  },
  {
   "cell_type": "code",
   "execution_count": 14,
   "metadata": {},
   "outputs": [
    {
     "name": "stdout",
     "output_type": "stream",
     "text": [
      "Accuracy: 0.9120968955757749\n"
     ]
    }
   ],
   "source": [
    "from sklearn.model_selection import train_test_split\n",
    "from sklearn.ensemble import RandomForestClassifier\n",
    "from sklearn.metrics import accuracy_score\n",
    "\n",
    "# Define features and target variable\n",
    "features3A = [ 'UnitName', 'District_Name','CrimeHead_Name',\n",
    "            'CrimeGroup_Name']\n",
    "x3A = d3[features3].drop(columns=['CrimeGroup_Name'])\n",
    "y3A = d3['CrimeGroup_Name']\n",
    "\n",
    "# Split data into train and test sets\n",
    "X_train3A, X_test3A, y_train3A, y_test3A = train_test_split(x3A, y3A, test_size=0.2, random_state=42)\n",
    "\n",
    "# Initialize RandomForestClassifier\n",
    "clf3A = RandomForestClassifier()\n",
    "\n",
    "# Train the model\n",
    "clf3A.fit(X_train3A, y_train3A)\n",
    "\n",
    "# Make predictions\n",
    "y_pred3A = clf3A.predict(X_test3A)\n",
    "\n",
    "# Evaluate model performance\n",
    "accuracy3A = accuracy_score(y_test3A, y_pred3A)\n",
    "print(\"Accuracy:\", accuracy3A)\n"
   ]
  }
 ],
 "metadata": {
  "kernelspec": {
   "display_name": "Python 3",
   "language": "python",
   "name": "python3"
  },
  "language_info": {
   "codemirror_mode": {
    "name": "ipython",
    "version": 3
   },
   "file_extension": ".py",
   "mimetype": "text/x-python",
   "name": "python",
   "nbconvert_exporter": "python",
   "pygments_lexer": "ipython3",
   "version": "3.9.9"
  }
 },
 "nbformat": 4,
 "nbformat_minor": 2
}
